{
  "cells": [
    {
      "cell_type": "markdown",
      "metadata": {
        "id": "view-in-github",
        "colab_type": "text"
      },
      "source": [
        "<a href=\"https://colab.research.google.com/github/Mohrezasharifi/AI_Engineering_NYC-Taxi-Dataset/blob/main/CSC8101_spark_coursework_Final.ipynb\" target=\"_parent\"><img src=\"https://colab.research.google.com/assets/colab-badge.svg\" alt=\"Open In Colab\"/></a>"
      ]
    },
    {
      "cell_type": "markdown",
      "metadata": {
        "application/vnd.databricks.v1+cell": {
          "inputWidgets": {},
          "nuid": "7601bf0e-75f1-4b25-97f1-54e1d855bd12",
          "showTitle": false,
          "title": ""
        },
        "id": "_My7PTp9ctI6"
      },
      "source": [
        "# [CSC8101] Engineering for AI - 2025 Spark Coursework\n",
        "*Submitted by: Mohammmad Reza Sharifi (230533851) | Module Lead: Dr. Varun Ojha and Dr. Iain*"
      ]
    },
    {
      "cell_type": "markdown",
      "source": [
        "# **Introduction:**\n",
        "\n",
        "The **New York City (NYC) Taxi Dataset** is a rich and comprehensive collection of taxi trip records, capturing detailed information about millions of trips across the city. This dataset includes attributes such as pickup/dropoff locations, trip distances, passenger counts, fares, and timestamps, making it an invaluable resource for analyzing urban transportation patterns, optimizing taxi operations, and improving city planning.\n",
        "\n",
        "**Overiew of the Dataset:**\n",
        "\n",
        "*Trips Dataset:*\n",
        "\n",
        "Contains records of individual taxi trips, including pickup/dropoff times, locations, distances, fares, and passenger counts.\n",
        "\n",
        "*Zones Dataset:*\n",
        "\n",
        "Provides mapping of location IDs to zone names (e.g., Manhattan, Brooklyn), enabling spatial analysis of trip origins and destinations.\n",
        "\n",
        "*Dataset Sizes:*\n",
        "\n",
        "Small (S): 2.9 million rows (July 2021 data).\n",
        "\n",
        "Medium (M): 15.57 million rows (2021 full-year data).\n",
        "\n",
        "Large (L): 41.95 million rows (2020-2021 data).\n",
        "\n",
        "Extra Large (XL): Combined data from 2019 and 2020-2021.\n",
        "\n",
        "XXL: Largest dataset, combining all available data.\n"
      ],
      "metadata": {
        "id": "aje5-HNIJHUp"
      }
    },
    {
      "cell_type": "markdown",
      "source": [
        "**Disclaimer:**\n",
        "\n",
        "*The report has mainly focused on the S dataset as the machine was confident enough to run it wihtout crashing or refusing any Spark connection. But the pipeline could implemented on S, M, and L datasets with their relevant time taken for execution.* Plus, the dataset has been mounted by the driver shared by the module coordinator through Google Drive. So, having the Google Drive and mounting it properly should be easy to still go ahead with the project."
      ],
      "metadata": {
        "id": "2_PlhUF1J4aM"
      }
    },
    {
      "cell_type": "markdown",
      "source": [
        "The following codeblock is used to mount the google colab instance to the google drive to access the dataset."
      ],
      "metadata": {
        "id": "CDUbnQ32nR8r"
      }
    },
    {
      "cell_type": "code",
      "source": [
        "from google.colab import drive\n",
        "drive.mount('/content/drive')"
      ],
      "metadata": {
        "colab": {
          "base_uri": "https://localhost:8080/",
          "height": 0
        },
        "id": "Tm8yjI6Xl1NJ",
        "outputId": "460c2d1c-d8a3-42cd-9e75-5c19bb9cfd5a"
      },
      "execution_count": 1,
      "outputs": [
        {
          "output_type": "stream",
          "name": "stdout",
          "text": [
            "Mounted at /content/drive\n"
          ]
        }
      ]
    },
    {
      "cell_type": "markdown",
      "metadata": {
        "application/vnd.databricks.v1+cell": {
          "inputWidgets": {},
          "nuid": "d26c1c73-cac4-4937-8201-4c15cc6be296",
          "showTitle": false,
          "title": ""
        },
        "id": "ZjXKIdU-ctI9"
      },
      "source": [
        "## Task 0 - Reading the data from the dataset\n",
        "\n",
        "The code below is used to read the data after the Google Drive is mounted. In my case, the dataset resides in (/content/drive/MyDrive/AdvancedAI_Data/) with files having .parquet extension. The dataset have been provided in this format."
      ]
    },
    {
      "cell_type": "code",
      "source": [
        "%pip install findspark\n"
      ],
      "metadata": {
        "colab": {
          "base_uri": "https://localhost:8080/",
          "height": 0
        },
        "id": "f0ZI33j4u9Sv",
        "outputId": "e5326ec8-6142-42fd-dc5a-db6e20407a63"
      },
      "execution_count": 2,
      "outputs": [
        {
          "output_type": "stream",
          "name": "stdout",
          "text": [
            "Collecting findspark\n",
            "  Downloading findspark-2.0.1-py2.py3-none-any.whl.metadata (352 bytes)\n",
            "Downloading findspark-2.0.1-py2.py3-none-any.whl (4.4 kB)\n",
            "Installing collected packages: findspark\n",
            "Successfully installed findspark-2.0.1\n"
          ]
        }
      ]
    },
    {
      "cell_type": "markdown",
      "source": [
        "**Installing and Importing the important libraries**\n",
        "You may use %pip install packagename if you get an error that says package has not been found.\n",
        "\n"
      ],
      "metadata": {
        "id": "-UukIAl1J3kY"
      }
    },
    {
      "cell_type": "code",
      "source": [
        "## global imports\n",
        "import pyspark.sql as ps\n",
        "import pyspark.sql.functions as pf\n",
        "import pandas as pd\n",
        "import findspark\n",
        "findspark.init()\n",
        "from pyspark.sql import SparkSession\n",
        "from pyspark.sql.functions import col, abs, expr, percentile_approx\n",
        "\n",
        "# Initializing Spark session\n",
        "spark = SparkSession.builder.appName(\"NYC Taxi Data Cleaning\")\n",
        "findspark.init()\n",
        "from pyspark.sql import SparkSession\n",
        "from pyspark.sql import SparkSession\n",
        "\n",
        "spark = SparkSession.builder.master(\"local[*]\")\\\n",
        "    .config(\"spark.executor.memory\", \"8g\")\\\n",
        "    .config(\"spark.driver.memory\", \"4g\")\\\n",
        "    .getOrCreate()"
      ],
      "metadata": {
        "id": "hZC-DreftHpQ"
      },
      "execution_count": 3,
      "outputs": []
    },
    {
      "cell_type": "markdown",
      "source": [
        "This code snippet is to import the dataset from the Drive and all sizes of the dataset have been imported."
      ],
      "metadata": {
        "id": "YT6m84mFJ9Sk"
      }
    },
    {
      "cell_type": "code",
      "execution_count": 4,
      "metadata": {
        "application/vnd.databricks.v1+cell": {
          "inputWidgets": {},
          "nuid": "57aaebcc-fc2a-4d86-a58e-c1489efeadaf",
          "showTitle": false,
          "title": ""
        },
        "id": "suolqqpEctI9",
        "colab": {
          "base_uri": "https://localhost:8080/",
          "height": 0
        },
        "outputId": "8842085b-1886-476b-cae0-cf63aac9fd01"
      },
      "outputs": [
        {
          "output_type": "stream",
          "name": "stdout",
          "text": [
            "Drive already mounted at /content/drive; to attempt to forcibly remount, call drive.mount(\"/content/drive\", force_remount=True).\n"
          ]
        }
      ],
      "source": [
        "from google.colab import drive\n",
        "drive.mount('/content/drive')\n",
        "# Load zone names dataset - (much faster to read small file from git than dbfs)\n",
        "zones_file_url = 'https://raw.githubusercontent.com/NewcastleComputingScience/csc8101-coursework/main/02-assignment-spark/taxi_zone_names.csv'\n",
        "zone_names = spark.createDataFrame(pd.read_csv(zones_file_url))\n",
        "\n",
        "# Function to load trips dataset by selected dataset size\n",
        "def init_trips(size = 'S'):\n",
        "\n",
        "    files = {\n",
        "        'S'  : ['2021_07'],\n",
        "        'M'  : ['2021'],\n",
        "        'L'  : ['2020_21'],\n",
        "        'XL' : ['1_6_2019', '7_12_2019'],\n",
        "        'XXL': ['1_6_2019', '7_12_2019', '2020_21']\n",
        "    }\n",
        "\n",
        "    # validate input dataset size\n",
        "    if size not in files.keys():\n",
        "        print(\"Invalid input dataset size. Must be one of {}\".format(list(files.keys())))\n",
        "        return None\n",
        "\n",
        "    filenames = list(map(lambda s: f'/content/drive/MyDrive/AdvancedAI_Data/tripdata_{s}.parquet', files[size]))\n",
        "    trips_df = spark.read.parquet(filenames[0])\n",
        "\n",
        "    for name in filenames[1:]:\n",
        "        trips_df = trips_df.union(spark.read.parquet(name))\n",
        "\n",
        "\n",
        "    print(\n",
        "    \"\"\"\n",
        "    Trips dataset loaded!\n",
        "    ---\n",
        "      Size: {s}\n",
        "      Tables loaded: {ds}\n",
        "      Number of trips (dataset rows): {tc:,}\n",
        "    \"\"\".format(s = size, ds = filenames, tc = trips_df.count()))\n",
        "\n",
        "    return trips_df\n",
        "\n",
        "# helper function to print dataset row count\n",
        "def print_count(df):\n",
        "    print(\"Row count: {t:,}\".format(t = df.count()))\n",
        "\n",
        "def pipeline(trips_df, with_task_12 = False, zones_df = zone_names):\n",
        "    # Do not edit\n",
        "    #---This part of the code has been implemented step by step in this notebook\n",
        "\n",
        "    ## Task 1.1\n",
        "    _trips_11 = t11_remove_zeros(trips_df)\n",
        "\n",
        "    ## Task 1.2\n",
        "    if with_task_12:\n",
        "        _trips_12 = t12_remove_outliers(_trips_11)\n",
        "    else:\n",
        "        _trips_12 = _trips_11\n",
        "\n",
        "    ## Task 2.1\n",
        "    _trips_21 = t21_join_zones(_trips_12, zones_df = zone_names)\n",
        "\n",
        "    ## Task 2.2\n",
        "    _trips_22 = t22_calc_profit(_trips_21)\n",
        "\n",
        "    ## Task 3.1\n",
        "    _graph = t31_summarise_trips(_trips_22)\n",
        "\n",
        "    ## Task 3.2\n",
        "    _zones = t32_summarise_zones_pairs(_graph)\n",
        "\n",
        "    _top10_trips     = t32_top10_trips(_zones)\n",
        "    _top10_profit    = t32_top10_profit(_zones)\n",
        "    _top10_passenger = t32_top10_passenger(_zones)\n",
        "\n",
        "    return([_top10_trips, _top10_profit, _top10_passenger])"
      ]
    },
    {
      "cell_type": "markdown",
      "source": [
        "For further exploration, I am considering a smaller dataset to implement Spark function for more analysis."
      ],
      "metadata": {
        "id": "GKam01efKJN_"
      }
    },
    {
      "cell_type": "code",
      "execution_count": 28,
      "metadata": {
        "application/vnd.databricks.v1+cell": {
          "inputWidgets": {},
          "nuid": "490ab841-fd73-4466-a6e7-5121395deca9",
          "showTitle": false,
          "title": ""
        },
        "id": "DXOjNYDrctI-",
        "colab": {
          "base_uri": "https://localhost:8080/",
          "height": 0
        },
        "outputId": "5caece48-ad84-4ff4-8e74-46c32755b6c0"
      },
      "outputs": [
        {
          "output_type": "stream",
          "name": "stdout",
          "text": [
            "\n",
            "    Trips dataset loaded!\n",
            "    ---\n",
            "      Size: S\n",
            "      Tables loaded: ['/content/drive/MyDrive/AdvancedAI_Data/tripdata_2021_07.parquet']\n",
            "      Number of trips (dataset rows): 2,898,033\n",
            "    \n",
            "+-----+--------+--------------------+---------------------+---------------+-------------+----------+------------------+------------+------------+------------+-----------+-----+-------+----------+------------+---------------------+------------+--------------------+--------+--------------------+---------------------+---------+---------+\n",
            "|index|VendorID|tpep_pickup_datetime|tpep_dropoff_datetime|passenger_count|trip_distance|RatecodeID|store_and_fwd_flag|PULocationID|DOLocationID|payment_type|fare_amount|extra|mta_tax|tip_amount|tolls_amount|improvement_surcharge|total_amount|congestion_surcharge|cab_type|lpep_pickup_datetime|lpep_dropoff_datetime|ehail_fee|trip_type|\n",
            "+-----+--------+--------------------+---------------------+---------------+-------------+----------+------------------+------------+------------+------------+-----------+-----+-------+----------+------------+---------------------+------------+--------------------+--------+--------------------+---------------------+---------+---------+\n",
            "|    0|     1.0| 2021-07-01 00:08:51|  2021-07-01 00:13:05|            1.0|          0.8|       1.0|                 N|          90|          68|         1.0|        5.0|  3.0|    0.5|       0.0|         0.0|                  0.3|         8.8|                 2.5|       Y|                NULL|                 NULL|     NULL|     NULL|\n",
            "|    1|     1.0| 2021-07-01 00:22:39|  2021-07-01 00:25:58|            1.0|          0.9|       1.0|                 N|         113|          90|         2.0|        5.0|  3.0|    0.5|       0.0|         0.0|                  0.3|         8.8|                 2.5|       Y|                NULL|                 NULL|     NULL|     NULL|\n",
            "|    2|     1.0| 2021-07-01 00:48:33|  2021-07-01 00:54:58|            1.0|          2.8|       1.0|                 N|          88|         232|         2.0|       10.0|  3.0|    0.5|       0.0|         0.0|                  0.3|        13.8|                 2.5|       Y|                NULL|                 NULL|     NULL|     NULL|\n",
            "|    3|     1.0| 2021-07-01 00:59:44|  2021-07-01 01:07:09|            1.0|          1.4|       1.0|                 N|          79|         249|         1.0|        7.0|  3.0|    0.5|       1.5|         0.0|                  0.3|        12.3|                 2.5|       Y|                NULL|                 NULL|     NULL|     NULL|\n",
            "|    4|     1.0| 2021-07-01 00:08:35|  2021-07-01 00:16:28|            0.0|          2.0|       1.0|                 N|         142|         238|         1.0|        8.5|  3.0|    0.5|       0.0|         0.0|                  0.3|        12.3|                 2.5|       Y|                NULL|                 NULL|     NULL|     NULL|\n",
            "|    5|     1.0| 2021-07-01 00:10:49|  2021-07-01 00:18:42|            1.0|          1.6|       1.0|                 N|         114|          90|         1.0|        7.5|  3.0|    0.5|       1.5|         0.0|                  0.3|        12.8|                 2.5|       Y|                NULL|                 NULL|     NULL|     NULL|\n",
            "|    6|     1.0| 2021-07-01 00:28:56|  2021-07-01 00:36:11|            1.0|          1.8|       1.0|                 N|          90|         144|         1.0|        7.5|  3.0|    0.5|       2.0|         0.0|                  0.3|        13.3|                 2.5|       Y|                NULL|                 NULL|     NULL|     NULL|\n",
            "|    7|     1.0| 2021-07-01 00:45:10|  2021-07-01 00:52:46|            1.0|          2.0|       1.0|                 N|         114|          48|         1.0|        8.5|  3.0|    0.5|      2.45|         0.0|                  0.3|       14.75|                 2.5|       Y|                NULL|                 NULL|     NULL|     NULL|\n",
            "|    8|     1.0| 2021-07-01 00:55:43|  2021-07-01 01:10:56|            1.0|          5.7|       1.0|                 N|          48|         152|         2.0|       18.5|  3.0|    0.5|       0.0|         0.0|                  0.3|        22.3|                 2.5|       Y|                NULL|                 NULL|     NULL|     NULL|\n",
            "|    9|     1.0| 2021-07-01 00:04:24|  2021-07-01 00:13:23|            1.0|          1.8|       1.0|                 N|         234|         148|         1.0|        8.5|  3.0|    0.5|      2.45|         0.0|                  0.3|       14.75|                 2.5|       Y|                NULL|                 NULL|     NULL|     NULL|\n",
            "+-----+--------+--------------------+---------------------+---------------+-------------+----------+------------------+------------+------------+------------+-----------+-----+-------+----------+------------+---------------------+------------+--------------------+--------+--------------------+---------------------+---------+---------+\n",
            "only showing top 10 rows\n",
            "\n"
          ]
        }
      ],
      "source": [
        "# CHANGE the value of argument 'size' to record the pipeline execution times for increasing dataset sizes\n",
        "SIZE = 'S'\n",
        "\n",
        "\n",
        "# Load trips dataset\n",
        "trips = init_trips(SIZE)\n",
        "#trips.show(1)\n",
        "# Define the dataset paths\n",
        "files = {\n",
        "    \"ALL\": [\"tripdata_2021_07.parquet\", \"tripdata_2021.parquet\", \"tripdata_2020_21.parquet\", \"tripdata_1_6_2019.parquet\", \"tripdata_7_12_2019.parquet\"]\n",
        "}\n",
        "\n",
        "# Function to load all datasets\n",
        "def load_trips_data(files, spark):\n",
        "    filenames = [f'/content/drive/MyDrive/AdvancedAI_Data/tripdata_2021_07.parquet' for name in files[\"ALL\"]]\n",
        "\n",
        "    # Read first file\n",
        "    trips_df = spark.read.parquet(filenames[0])\n",
        "\n",
        "    # Append remaining files\n",
        "    for name in filenames[1:]:\n",
        "        trips_df = trips_df.union(spark.read.parquet(name))\n",
        "\n",
        "    return trips_df\n",
        "\n",
        "# Load data again\n",
        "trips_df = load_trips_data(files, spark)\n",
        "\n",
        "# Check if DataFrame is now loaded\n",
        "trips_df.show(10)\n"
      ]
    },
    {
      "cell_type": "markdown",
      "source": [
        "In the above snippet, it is seen that there are a total of 2898033 rows of data which is our data for analysis."
      ],
      "metadata": {
        "id": "cvUu-TLWKVqc"
      }
    },
    {
      "cell_type": "code",
      "execution_count": 6,
      "metadata": {
        "application/vnd.databricks.v1+cell": {
          "inputWidgets": {},
          "nuid": "490e67f7-4457-4bd5-b89a-a6d24c5645d5",
          "showTitle": false,
          "title": ""
        },
        "id": "VlK_jzthctI-",
        "colab": {
          "base_uri": "https://localhost:8080/",
          "height": 0
        },
        "outputId": "9c791863-0687-4340-d236-c54428a2330d"
      },
      "outputs": [
        {
          "output_type": "stream",
          "name": "stdout",
          "text": [
            "root\n",
            " |-- index: long (nullable = true)\n",
            " |-- VendorID: double (nullable = true)\n",
            " |-- tpep_pickup_datetime: string (nullable = true)\n",
            " |-- tpep_dropoff_datetime: string (nullable = true)\n",
            " |-- passenger_count: double (nullable = true)\n",
            " |-- trip_distance: double (nullable = true)\n",
            " |-- RatecodeID: double (nullable = true)\n",
            " |-- store_and_fwd_flag: string (nullable = true)\n",
            " |-- PULocationID: long (nullable = true)\n",
            " |-- DOLocationID: long (nullable = true)\n",
            " |-- payment_type: double (nullable = true)\n",
            " |-- fare_amount: double (nullable = true)\n",
            " |-- extra: double (nullable = true)\n",
            " |-- mta_tax: double (nullable = true)\n",
            " |-- tip_amount: double (nullable = true)\n",
            " |-- tolls_amount: double (nullable = true)\n",
            " |-- improvement_surcharge: double (nullable = true)\n",
            " |-- total_amount: double (nullable = true)\n",
            " |-- congestion_surcharge: double (nullable = true)\n",
            " |-- cab_type: string (nullable = true)\n",
            " |-- lpep_pickup_datetime: string (nullable = true)\n",
            " |-- lpep_dropoff_datetime: string (nullable = true)\n",
            " |-- ehail_fee: double (nullable = true)\n",
            " |-- trip_type: double (nullable = true)\n",
            "\n"
          ]
        }
      ],
      "source": [
        "# dataset schemas\n",
        "trips.printSchema()"
      ]
    },
    {
      "cell_type": "markdown",
      "source": [
        "Schema of the dataset has been defined above."
      ],
      "metadata": {
        "id": "KxYZAhvEKhvp"
      }
    },
    {
      "cell_type": "code",
      "execution_count": 7,
      "metadata": {
        "application/vnd.databricks.v1+cell": {
          "inputWidgets": {},
          "nuid": "5e2ab160-b9b8-4c4a-bb70-fc3197bae230",
          "showTitle": false,
          "title": ""
        },
        "id": "H-wg8TN7ctI_",
        "colab": {
          "base_uri": "https://localhost:8080/",
          "height": 231
        },
        "outputId": "91b47d26-d297-4810-bf2b-fff0bdc37653"
      },
      "outputs": [
        {
          "output_type": "stream",
          "name": "stdout",
          "text": [
            "+------------+------------+-------------+---------------+------------+\n",
            "|PULocationID|DOLocationID|trip_distance|passenger_count|total_amount|\n",
            "+------------+------------+-------------+---------------+------------+\n",
            "|          90|          68|          0.8|            1.0|         8.8|\n",
            "|         113|          90|          0.9|            1.0|         8.8|\n",
            "|          88|         232|          2.8|            1.0|        13.8|\n",
            "|          79|         249|          1.4|            1.0|        12.3|\n",
            "|         142|         238|          2.0|            0.0|        12.3|\n",
            "+------------+------------+-------------+---------------+------------+\n",
            "only showing top 5 rows\n",
            "\n"
          ]
        },
        {
          "output_type": "display_data",
          "data": {
            "text/plain": [
              "None"
            ]
          },
          "metadata": {}
        }
      ],
      "source": [
        "display(trips[['PULocationID', 'DOLocationID', 'trip_distance', 'passenger_count', 'total_amount']].show(5))"
      ]
    },
    {
      "cell_type": "markdown",
      "source": [
        "The attributes of the dataset has been displayed above."
      ],
      "metadata": {
        "id": "pBPh_uQ8KmQv"
      }
    },
    {
      "cell_type": "code",
      "execution_count": 8,
      "metadata": {
        "application/vnd.databricks.v1+cell": {
          "inputWidgets": {},
          "nuid": "eee4451c-b49a-42a6-b87e-81aad4144cf1",
          "showTitle": false,
          "title": ""
        },
        "id": "5M0rcWtDctI_",
        "colab": {
          "base_uri": "https://localhost:8080/",
          "height": 0
        },
        "outputId": "b3acf5a7-da64-43fd-80aa-eb15ee535a17"
      },
      "outputs": [
        {
          "output_type": "stream",
          "name": "stdout",
          "text": [
            "root\n",
            " |-- LocationID: long (nullable = true)\n",
            " |-- Borough: string (nullable = true)\n",
            " |-- Zone: string (nullable = true)\n",
            " |-- service_zone: string (nullable = true)\n",
            "\n"
          ]
        }
      ],
      "source": [
        "zone_names.printSchema()"
      ]
    },
    {
      "cell_type": "code",
      "execution_count": 9,
      "metadata": {
        "application/vnd.databricks.v1+cell": {
          "inputWidgets": {},
          "nuid": "8a1ed0a0-0621-471d-8332-d47b52f71817",
          "showTitle": false,
          "title": ""
        },
        "id": "MnBRw7MZctI_",
        "colab": {
          "base_uri": "https://localhost:8080/",
          "height": 231
        },
        "outputId": "0e769134-9751-4bb3-87a6-f68a2f5f0de4"
      },
      "outputs": [
        {
          "output_type": "stream",
          "name": "stdout",
          "text": [
            "+----------+-------------+--------------------+------------+\n",
            "|LocationID|      Borough|                Zone|service_zone|\n",
            "+----------+-------------+--------------------+------------+\n",
            "|         1|          EWR|      Newark Airport|         EWR|\n",
            "|         2|       Queens|         Jamaica Bay|   Boro Zone|\n",
            "|         3|        Bronx|Allerton/Pelham G...|   Boro Zone|\n",
            "|         4|    Manhattan|       Alphabet City| Yellow Zone|\n",
            "|         5|Staten Island|       Arden Heights|   Boro Zone|\n",
            "+----------+-------------+--------------------+------------+\n",
            "only showing top 5 rows\n",
            "\n"
          ]
        },
        {
          "output_type": "display_data",
          "data": {
            "text/plain": [
              "None"
            ]
          },
          "metadata": {}
        }
      ],
      "source": [
        "display(zone_names.show(5))"
      ]
    },
    {
      "cell_type": "markdown",
      "source": [
        "Different zones where the data has been collected are listed."
      ],
      "metadata": {
        "id": "lzLzrPEGKt46"
      }
    },
    {
      "cell_type": "markdown",
      "source": [
        "*`Let's go with the first task of the coursework, cleaning the dataset; an importnat step in any analysis project.`*"
      ],
      "metadata": {
        "id": "EZ0qw2suK09A"
      }
    },
    {
      "cell_type": "markdown",
      "source": [
        "# **Task 1.1 - Removeing \"0 distance\" and 'no passengers' records in the Small Dataset**"
      ],
      "metadata": {
        "id": "mbEPuJdc9TwR"
      }
    },
    {
      "cell_type": "markdown",
      "source": [
        "For this task, after the data [here small dataset] is loaded, the function t11_remove_zeros(df) filters out all the records with trip distance zero so that it can be easy to remove the columns with Zero passenger_count and Zero totla_amount.\n",
        "As a result of this operation, out of the total record of 2,898,088 about 39,869 of them have been found either with passenger_count==0 or total_amount==0 and that leaves us with 2,858,164 records cleaned till this stage."
      ],
      "metadata": {
        "id": "iwOTUYqbCf4w"
      }
    },
    {
      "cell_type": "code",
      "source": [
        "def t11_remove_zeros(df): #function responsible for cleaning the S dataset\n",
        "\n",
        "    df = df.filter(df.trip_distance != 0.0)# Filtering out rows where trip_distance is 0\n",
        "    df = df.filter(~((df.passenger_count == 0.0) & (df.total_amount <= 0.0))) # Filtering out rows where passenger_count is 0 and total_amount is 0\n",
        "    return df"
      ],
      "metadata": {
        "id": "TdHtfALLFQhh"
      },
      "execution_count": 10,
      "outputs": []
    },
    {
      "cell_type": "markdown",
      "source": [
        "**Very ironically, we have some values even lower than 0.0 which makes the analysis quite challanging in a sense if we are not careful about it right at the beginning.**"
      ],
      "metadata": {
        "id": "Thev85o-LMMs"
      }
    },
    {
      "cell_type": "code",
      "source": [
        "trips_11 = t11_remove_zeros(trips)\n",
        "print_count(trips_11) # Printing the count of rows after filtering\n",
        "\n",
        "display(trips_11.show(10)) # Displaying the first 10 rows( for S dataset)"
      ],
      "metadata": {
        "colab": {
          "base_uri": "https://localhost:8080/",
          "height": 358
        },
        "id": "PnURxt-78Fyh",
        "outputId": "c020f4fb-4c0a-4e6d-f565-8f4d06c0391f"
      },
      "execution_count": 11,
      "outputs": [
        {
          "output_type": "stream",
          "name": "stdout",
          "text": [
            "Row count: 2,858,133\n",
            "+-----+--------+--------------------+---------------------+---------------+-------------+----------+------------------+------------+------------+------------+-----------+-----+-------+----------+------------+---------------------+------------+--------------------+--------+--------------------+---------------------+---------+---------+\n",
            "|index|VendorID|tpep_pickup_datetime|tpep_dropoff_datetime|passenger_count|trip_distance|RatecodeID|store_and_fwd_flag|PULocationID|DOLocationID|payment_type|fare_amount|extra|mta_tax|tip_amount|tolls_amount|improvement_surcharge|total_amount|congestion_surcharge|cab_type|lpep_pickup_datetime|lpep_dropoff_datetime|ehail_fee|trip_type|\n",
            "+-----+--------+--------------------+---------------------+---------------+-------------+----------+------------------+------------+------------+------------+-----------+-----+-------+----------+------------+---------------------+------------+--------------------+--------+--------------------+---------------------+---------+---------+\n",
            "|    0|     1.0| 2021-07-01 00:08:51|  2021-07-01 00:13:05|            1.0|          0.8|       1.0|                 N|          90|          68|         1.0|        5.0|  3.0|    0.5|       0.0|         0.0|                  0.3|         8.8|                 2.5|       Y|                NULL|                 NULL|     NULL|     NULL|\n",
            "|    1|     1.0| 2021-07-01 00:22:39|  2021-07-01 00:25:58|            1.0|          0.9|       1.0|                 N|         113|          90|         2.0|        5.0|  3.0|    0.5|       0.0|         0.0|                  0.3|         8.8|                 2.5|       Y|                NULL|                 NULL|     NULL|     NULL|\n",
            "|    2|     1.0| 2021-07-01 00:48:33|  2021-07-01 00:54:58|            1.0|          2.8|       1.0|                 N|          88|         232|         2.0|       10.0|  3.0|    0.5|       0.0|         0.0|                  0.3|        13.8|                 2.5|       Y|                NULL|                 NULL|     NULL|     NULL|\n",
            "|    3|     1.0| 2021-07-01 00:59:44|  2021-07-01 01:07:09|            1.0|          1.4|       1.0|                 N|          79|         249|         1.0|        7.0|  3.0|    0.5|       1.5|         0.0|                  0.3|        12.3|                 2.5|       Y|                NULL|                 NULL|     NULL|     NULL|\n",
            "|    4|     1.0| 2021-07-01 00:08:35|  2021-07-01 00:16:28|            0.0|          2.0|       1.0|                 N|         142|         238|         1.0|        8.5|  3.0|    0.5|       0.0|         0.0|                  0.3|        12.3|                 2.5|       Y|                NULL|                 NULL|     NULL|     NULL|\n",
            "|    5|     1.0| 2021-07-01 00:10:49|  2021-07-01 00:18:42|            1.0|          1.6|       1.0|                 N|         114|          90|         1.0|        7.5|  3.0|    0.5|       1.5|         0.0|                  0.3|        12.8|                 2.5|       Y|                NULL|                 NULL|     NULL|     NULL|\n",
            "|    6|     1.0| 2021-07-01 00:28:56|  2021-07-01 00:36:11|            1.0|          1.8|       1.0|                 N|          90|         144|         1.0|        7.5|  3.0|    0.5|       2.0|         0.0|                  0.3|        13.3|                 2.5|       Y|                NULL|                 NULL|     NULL|     NULL|\n",
            "|    7|     1.0| 2021-07-01 00:45:10|  2021-07-01 00:52:46|            1.0|          2.0|       1.0|                 N|         114|          48|         1.0|        8.5|  3.0|    0.5|      2.45|         0.0|                  0.3|       14.75|                 2.5|       Y|                NULL|                 NULL|     NULL|     NULL|\n",
            "|    8|     1.0| 2021-07-01 00:55:43|  2021-07-01 01:10:56|            1.0|          5.7|       1.0|                 N|          48|         152|         2.0|       18.5|  3.0|    0.5|       0.0|         0.0|                  0.3|        22.3|                 2.5|       Y|                NULL|                 NULL|     NULL|     NULL|\n",
            "|    9|     1.0| 2021-07-01 00:04:24|  2021-07-01 00:13:23|            1.0|          1.8|       1.0|                 N|         234|         148|         1.0|        8.5|  3.0|    0.5|      2.45|         0.0|                  0.3|       14.75|                 2.5|       Y|                NULL|                 NULL|     NULL|     NULL|\n",
            "+-----+--------+--------------------+---------------------+---------------+-------------+----------+------------------+------------+------------+------------+-----------+-----+-------+----------+------------+---------------------+------------+--------------------+--------+--------------------+---------------------+---------+---------+\n",
            "only showing top 10 rows\n",
            "\n"
          ]
        },
        {
          "output_type": "display_data",
          "data": {
            "text/plain": [
              "None"
            ]
          },
          "metadata": {}
        }
      ]
    },
    {
      "cell_type": "markdown",
      "source": [
        "# **Task 1.2 - Removing outliers using the modified z-score**\n",
        "This code removes outliers from the dataset using the modified z-score method. Outliers are extreme values that don’t represent typical taxi trips, such as trips with unusually high fares or extremely long distances. These outliers can distort the analysis, so removing them ensures the results are based on realistic and meaningful data.\n",
        "\n",
        "**What does this code snippet do?**\n",
        "\n",
        "--It calculates the median for the total_amount (fare) and trip_distance (distance) columns. The median is the middle value of the dataset and is less affected by outliers compared to the mean.\n",
        "\n",
        "--It calculates the Median Absolute Deviation (MAD) for both columns. MAD measures how spread out the data is around the median and is also robust to outliers.\n",
        "\n",
        "--It computes the modified z-score for each value in the total_amount and trip_distance columns. The modified z-score measures how far a data point is from the median in terms of MAD.\n",
        "\n",
        "--It filters out rows where the absolute z-score is greater than 3.5 for either column. This threshold is commonly used to identify and remove outliers.\n",
        "\n",
        "--It drops the temporary z-score columns after filtering, as they are no longer needed.\n",
        "\n",
        "**Why is this important?**\n",
        "\n",
        "***Accurate Analysis:***\n",
        "Removing outliers ensures that the analysis reflects typical taxi trips, not extreme or unrealistic cases.\n",
        "\n",
        "***Better Insights: ***\n",
        "By focusing on normal trips, the results (e.g., profitability, passenger volume) are more meaningful and actionable.\n",
        "\n",
        "***Robust Statistics: ***\n",
        "The modified z-score uses the median and MAD, which are less sensitive to outliers compared to the mean and standard deviation.\n",
        "\n",
        "**Example:**\n",
        "\n",
        "If a trip has a fare of $1,000 (which is much higher than the median fare), its z-score will be very high. If the z-score exceeds 3.5, the trip is considered an outlier and removed from the dataset.\n"
      ],
      "metadata": {
        "id": "IcTu5Ded9ceg"
      }
    },
    {
      "cell_type": "code",
      "source": [
        "from pyspark.sql.functions import col, abs\n",
        "\n",
        "def t12_remove_outliers(df):\n",
        "    median_total_amount = df.approxQuantile(\"total_amount\", [0.5], 0.01)[0]     # Calculating the median for total_amount and trip_distance\n",
        "    median_trip_distance = df.approxQuantile(\"trip_distance\", [0.5], 0.01)[0]\n",
        "\n",
        "    # Calculating the MAD for total_amount and trip_distance\n",
        "    # Calculating absolute difference and rename the column for approxQuantile\n",
        "    mad_total_amount = 1.483 * df.select(abs(col(\"total_amount\") - median_total_amount).alias(\"abs_diff_total_amount\")).approxQuantile(\"abs_diff_total_amount\", [0.5], 0.01)[0]\n",
        "    mad_trip_distance = 1.483 * df.select(abs(col(\"trip_distance\") - median_trip_distance).alias(\"abs_diff_trip_distance\")).approxQuantile(\"abs_diff_trip_distance\", [0.5], 0.01)[0]\n",
        "\n",
        "    # Calculating the modified z-score for total_amount and trip_distance\n",
        "    df = df.withColumn(\"z_score_total_amount\", abs((col(\"total_amount\") - median_total_amount) / mad_total_amount))\n",
        "    df = df.withColumn(\"z_score_trip_distance\", abs((col(\"trip_distance\") - median_trip_distance) / mad_trip_distance))\n",
        "\n",
        "    # Filtering out rows where the z-score is greater than 3.5 for either column\n",
        "    df = df.filter((col(\"z_score_total_amount\") <= 3.5) & (col(\"z_score_trip_distance\") <= 3.5))\n",
        "\n",
        "    # Dropping the z-score columns as they are no longer needed\n",
        "    df = df.drop(\"z_score_total_amount\", \"z_score_trip_distance\")\n",
        "\n",
        "    return df"
      ],
      "metadata": {
        "id": "-iXom9hY9iKW"
      },
      "execution_count": 12,
      "outputs": []
    },
    {
      "cell_type": "code",
      "source": [
        "# Step 1: Removing zeros\n",
        "trips_11 = t11_remove_zeros(trips)\n",
        "print_count(trips_11)  # Printing the count of rows after filtering\n",
        "display(trips_11.show(10))  # Displaying the first 10 rows (for S dataset)\n",
        "\n",
        "# Step 2: Removing outliers\n",
        "trips_12 = t12_remove_outliers(trips_11)\n",
        "print_count(trips_12)  # Printing the count of rows after removing outliers\n",
        "display(trips_12.show(10))  # Displaying the first 10 rows of the filtered dataset\n",
        "\n",
        "# Step 3: Identifying and displaying the outliers\n",
        "outliers = trips_11.subtract(trips_12)\n",
        "#print(\"Number of outliers removed:\", outliers.count())\n",
        "print(\"Sample of removed outliers:\")\n",
        "#display(outliers.limit(5).show())"
      ],
      "metadata": {
        "colab": {
          "base_uri": "https://localhost:8080/",
          "height": 698
        },
        "id": "INk2Bij1V-3o",
        "outputId": "3d669b00-edd9-4cb0-8297-0e3b02a0cb74"
      },
      "execution_count": 13,
      "outputs": [
        {
          "output_type": "stream",
          "name": "stdout",
          "text": [
            "Row count: 2,858,133\n",
            "+-----+--------+--------------------+---------------------+---------------+-------------+----------+------------------+------------+------------+------------+-----------+-----+-------+----------+------------+---------------------+------------+--------------------+--------+--------------------+---------------------+---------+---------+\n",
            "|index|VendorID|tpep_pickup_datetime|tpep_dropoff_datetime|passenger_count|trip_distance|RatecodeID|store_and_fwd_flag|PULocationID|DOLocationID|payment_type|fare_amount|extra|mta_tax|tip_amount|tolls_amount|improvement_surcharge|total_amount|congestion_surcharge|cab_type|lpep_pickup_datetime|lpep_dropoff_datetime|ehail_fee|trip_type|\n",
            "+-----+--------+--------------------+---------------------+---------------+-------------+----------+------------------+------------+------------+------------+-----------+-----+-------+----------+------------+---------------------+------------+--------------------+--------+--------------------+---------------------+---------+---------+\n",
            "|    0|     1.0| 2021-07-01 00:08:51|  2021-07-01 00:13:05|            1.0|          0.8|       1.0|                 N|          90|          68|         1.0|        5.0|  3.0|    0.5|       0.0|         0.0|                  0.3|         8.8|                 2.5|       Y|                NULL|                 NULL|     NULL|     NULL|\n",
            "|    1|     1.0| 2021-07-01 00:22:39|  2021-07-01 00:25:58|            1.0|          0.9|       1.0|                 N|         113|          90|         2.0|        5.0|  3.0|    0.5|       0.0|         0.0|                  0.3|         8.8|                 2.5|       Y|                NULL|                 NULL|     NULL|     NULL|\n",
            "|    2|     1.0| 2021-07-01 00:48:33|  2021-07-01 00:54:58|            1.0|          2.8|       1.0|                 N|          88|         232|         2.0|       10.0|  3.0|    0.5|       0.0|         0.0|                  0.3|        13.8|                 2.5|       Y|                NULL|                 NULL|     NULL|     NULL|\n",
            "|    3|     1.0| 2021-07-01 00:59:44|  2021-07-01 01:07:09|            1.0|          1.4|       1.0|                 N|          79|         249|         1.0|        7.0|  3.0|    0.5|       1.5|         0.0|                  0.3|        12.3|                 2.5|       Y|                NULL|                 NULL|     NULL|     NULL|\n",
            "|    4|     1.0| 2021-07-01 00:08:35|  2021-07-01 00:16:28|            0.0|          2.0|       1.0|                 N|         142|         238|         1.0|        8.5|  3.0|    0.5|       0.0|         0.0|                  0.3|        12.3|                 2.5|       Y|                NULL|                 NULL|     NULL|     NULL|\n",
            "|    5|     1.0| 2021-07-01 00:10:49|  2021-07-01 00:18:42|            1.0|          1.6|       1.0|                 N|         114|          90|         1.0|        7.5|  3.0|    0.5|       1.5|         0.0|                  0.3|        12.8|                 2.5|       Y|                NULL|                 NULL|     NULL|     NULL|\n",
            "|    6|     1.0| 2021-07-01 00:28:56|  2021-07-01 00:36:11|            1.0|          1.8|       1.0|                 N|          90|         144|         1.0|        7.5|  3.0|    0.5|       2.0|         0.0|                  0.3|        13.3|                 2.5|       Y|                NULL|                 NULL|     NULL|     NULL|\n",
            "|    7|     1.0| 2021-07-01 00:45:10|  2021-07-01 00:52:46|            1.0|          2.0|       1.0|                 N|         114|          48|         1.0|        8.5|  3.0|    0.5|      2.45|         0.0|                  0.3|       14.75|                 2.5|       Y|                NULL|                 NULL|     NULL|     NULL|\n",
            "|    8|     1.0| 2021-07-01 00:55:43|  2021-07-01 01:10:56|            1.0|          5.7|       1.0|                 N|          48|         152|         2.0|       18.5|  3.0|    0.5|       0.0|         0.0|                  0.3|        22.3|                 2.5|       Y|                NULL|                 NULL|     NULL|     NULL|\n",
            "|    9|     1.0| 2021-07-01 00:04:24|  2021-07-01 00:13:23|            1.0|          1.8|       1.0|                 N|         234|         148|         1.0|        8.5|  3.0|    0.5|      2.45|         0.0|                  0.3|       14.75|                 2.5|       Y|                NULL|                 NULL|     NULL|     NULL|\n",
            "+-----+--------+--------------------+---------------------+---------------+-------------+----------+------------------+------------+------------+------------+-----------+-----+-------+----------+------------+---------------------+------------+--------------------+--------+--------------------+---------------------+---------+---------+\n",
            "only showing top 10 rows\n",
            "\n"
          ]
        },
        {
          "output_type": "display_data",
          "data": {
            "text/plain": [
              "None"
            ]
          },
          "metadata": {}
        },
        {
          "output_type": "stream",
          "name": "stdout",
          "text": [
            "Row count: 2,493,071\n",
            "+-----+--------+--------------------+---------------------+---------------+-------------+----------+------------------+------------+------------+------------+-----------+-----+-------+----------+------------+---------------------+------------+--------------------+--------+--------------------+---------------------+---------+---------+\n",
            "|index|VendorID|tpep_pickup_datetime|tpep_dropoff_datetime|passenger_count|trip_distance|RatecodeID|store_and_fwd_flag|PULocationID|DOLocationID|payment_type|fare_amount|extra|mta_tax|tip_amount|tolls_amount|improvement_surcharge|total_amount|congestion_surcharge|cab_type|lpep_pickup_datetime|lpep_dropoff_datetime|ehail_fee|trip_type|\n",
            "+-----+--------+--------------------+---------------------+---------------+-------------+----------+------------------+------------+------------+------------+-----------+-----+-------+----------+------------+---------------------+------------+--------------------+--------+--------------------+---------------------+---------+---------+\n",
            "|    0|     1.0| 2021-07-01 00:08:51|  2021-07-01 00:13:05|            1.0|          0.8|       1.0|                 N|          90|          68|         1.0|        5.0|  3.0|    0.5|       0.0|         0.0|                  0.3|         8.8|                 2.5|       Y|                NULL|                 NULL|     NULL|     NULL|\n",
            "|    1|     1.0| 2021-07-01 00:22:39|  2021-07-01 00:25:58|            1.0|          0.9|       1.0|                 N|         113|          90|         2.0|        5.0|  3.0|    0.5|       0.0|         0.0|                  0.3|         8.8|                 2.5|       Y|                NULL|                 NULL|     NULL|     NULL|\n",
            "|    2|     1.0| 2021-07-01 00:48:33|  2021-07-01 00:54:58|            1.0|          2.8|       1.0|                 N|          88|         232|         2.0|       10.0|  3.0|    0.5|       0.0|         0.0|                  0.3|        13.8|                 2.5|       Y|                NULL|                 NULL|     NULL|     NULL|\n",
            "|    3|     1.0| 2021-07-01 00:59:44|  2021-07-01 01:07:09|            1.0|          1.4|       1.0|                 N|          79|         249|         1.0|        7.0|  3.0|    0.5|       1.5|         0.0|                  0.3|        12.3|                 2.5|       Y|                NULL|                 NULL|     NULL|     NULL|\n",
            "|    4|     1.0| 2021-07-01 00:08:35|  2021-07-01 00:16:28|            0.0|          2.0|       1.0|                 N|         142|         238|         1.0|        8.5|  3.0|    0.5|       0.0|         0.0|                  0.3|        12.3|                 2.5|       Y|                NULL|                 NULL|     NULL|     NULL|\n",
            "|    5|     1.0| 2021-07-01 00:10:49|  2021-07-01 00:18:42|            1.0|          1.6|       1.0|                 N|         114|          90|         1.0|        7.5|  3.0|    0.5|       1.5|         0.0|                  0.3|        12.8|                 2.5|       Y|                NULL|                 NULL|     NULL|     NULL|\n",
            "|    6|     1.0| 2021-07-01 00:28:56|  2021-07-01 00:36:11|            1.0|          1.8|       1.0|                 N|          90|         144|         1.0|        7.5|  3.0|    0.5|       2.0|         0.0|                  0.3|        13.3|                 2.5|       Y|                NULL|                 NULL|     NULL|     NULL|\n",
            "|    7|     1.0| 2021-07-01 00:45:10|  2021-07-01 00:52:46|            1.0|          2.0|       1.0|                 N|         114|          48|         1.0|        8.5|  3.0|    0.5|      2.45|         0.0|                  0.3|       14.75|                 2.5|       Y|                NULL|                 NULL|     NULL|     NULL|\n",
            "|    8|     1.0| 2021-07-01 00:55:43|  2021-07-01 01:10:56|            1.0|          5.7|       1.0|                 N|          48|         152|         2.0|       18.5|  3.0|    0.5|       0.0|         0.0|                  0.3|        22.3|                 2.5|       Y|                NULL|                 NULL|     NULL|     NULL|\n",
            "|    9|     1.0| 2021-07-01 00:04:24|  2021-07-01 00:13:23|            1.0|          1.8|       1.0|                 N|         234|         148|         1.0|        8.5|  3.0|    0.5|      2.45|         0.0|                  0.3|       14.75|                 2.5|       Y|                NULL|                 NULL|     NULL|     NULL|\n",
            "+-----+--------+--------------------+---------------------+---------------+-------------+----------+------------------+------------+------------+------------+-----------+-----+-------+----------+------------+---------------------+------------+--------------------+--------+--------------------+---------------------+---------+---------+\n",
            "only showing top 10 rows\n",
            "\n"
          ]
        },
        {
          "output_type": "display_data",
          "data": {
            "text/plain": [
              "None"
            ]
          },
          "metadata": {}
        },
        {
          "output_type": "stream",
          "name": "stdout",
          "text": [
            "Sample of removed outliers:\n"
          ]
        }
      ]
    },
    {
      "cell_type": "code",
      "source": [
        "print(\"Row count before removing outliers:\", trips_11.count())\n",
        "print(\"Row count after removing outliers:\", trips_12.count())"
      ],
      "metadata": {
        "colab": {
          "base_uri": "https://localhost:8080/",
          "height": 0
        },
        "id": "eeDts01gWX6g",
        "outputId": "9f2dd968-6189-4150-ba42-c397541480f5"
      },
      "execution_count": 14,
      "outputs": [
        {
          "output_type": "stream",
          "name": "stdout",
          "text": [
            "Row count before removing outliers: 2858133\n",
            "Row count after removing outliers: 2493071\n"
          ]
        }
      ]
    },
    {
      "cell_type": "markdown",
      "source": [
        "*As a result of the above code snippet, about 365,093 records have been identified as outliers. Indentifying them can be quite helpful with further analysis of the dataset and it impacts the decision making process as well.*"
      ],
      "metadata": {
        "id": "fXhw8zWHHviC"
      }
    },
    {
      "cell_type": "markdown",
      "source": [
        "# **Task 2.1 - Zone Names**\n",
        "The objective in this part is to join the trips dataset with the zone_names dataset to get the start and end zone names for each trip."
      ],
      "metadata": {
        "id": "VffRgXm4---s"
      }
    },
    {
      "cell_type": "code",
      "source": [
        "def t21_join_zones(df, zones_df = zone_names):\n",
        "    # Joining to get the start zone name\n",
        "    # Alias zone_names to avoid ambiguous column names\n",
        "    df = df.join(zones_df.withColumnRenamed(\"Zone\", \"PUZone\").alias(\"pu_zones\"), df.PULocationID == col(\"pu_zones.LocationID\"), \"left\")\n",
        "\n",
        "    # Joining to get the end zone name\n",
        "    # Alias zone_names to avoid ambiguous column names\n",
        "    df = df.join(zones_df.withColumnRenamed(\"Zone\", \"DOZone\").alias(\"do_zones\"), df.DOLocationID == col(\"do_zones.LocationID\"), \"left\")\n",
        "\n",
        "    # Dropping the LocationID columns as they are no longer needed\n",
        "    df = df.drop(\"pu_zones.LocationID\", \"do_zones.LocationID\")  # Dropping LocationID from both joined DataFrames\n",
        "\n",
        "    return df"
      ],
      "metadata": {
        "id": "TyS3NjVm_JjD"
      },
      "execution_count": 15,
      "outputs": []
    },
    {
      "cell_type": "code",
      "source": [
        "# Execute task 2.1\n",
        "trips_21 = t21_join_zones(trips_12, zones_df = zone_names)\n",
        "\n",
        "# Printing the count of rows after joining\n",
        "print_count(trips_21)\n",
        "\n",
        "# Displaying the first 10 rows (optional, for small datasets)\n",
        "display(trips_21.show(10))"
      ],
      "metadata": {
        "colab": {
          "base_uri": "https://localhost:8080/",
          "height": 358
        },
        "id": "tf1ZKeBz_PrM",
        "outputId": "c09c8e41-33dd-4de8-e2a8-5b2399a83689"
      },
      "execution_count": 16,
      "outputs": [
        {
          "output_type": "stream",
          "name": "stdout",
          "text": [
            "Row count: 2,493,071\n",
            "+-----+--------+--------------------+---------------------+---------------+-------------+----------+------------------+------------+------------+------------+-----------+-----+-------+----------+------------+---------------------+------------+--------------------+--------+--------------------+---------------------+---------+---------+----------+---------+--------------------+------------+----------+---------+--------------------+------------+\n",
            "|index|VendorID|tpep_pickup_datetime|tpep_dropoff_datetime|passenger_count|trip_distance|RatecodeID|store_and_fwd_flag|PULocationID|DOLocationID|payment_type|fare_amount|extra|mta_tax|tip_amount|tolls_amount|improvement_surcharge|total_amount|congestion_surcharge|cab_type|lpep_pickup_datetime|lpep_dropoff_datetime|ehail_fee|trip_type|LocationID|  Borough|              PUZone|service_zone|LocationID|  Borough|              DOZone|service_zone|\n",
            "+-----+--------+--------------------+---------------------+---------------+-------------+----------+------------------+------------+------------+------------+-----------+-----+-------+----------+------------+---------------------+------------+--------------------+--------+--------------------+---------------------+---------+---------+----------+---------+--------------------+------------+----------+---------+--------------------+------------+\n",
            "|    1|     1.0| 2021-07-01 00:22:39|  2021-07-01 00:25:58|            1.0|          0.9|       1.0|                 N|         113|          90|         2.0|        5.0|  3.0|    0.5|       0.0|         0.0|                  0.3|         8.8|                 2.5|       Y|                NULL|                 NULL|     NULL|     NULL|       113|Manhattan|Greenwich Village...| Yellow Zone|        90|Manhattan|            Flatiron| Yellow Zone|\n",
            "|    9|     1.0| 2021-07-01 00:04:24|  2021-07-01 00:13:23|            1.0|          1.8|       1.0|                 N|         234|         148|         1.0|        8.5|  3.0|    0.5|      2.45|         0.0|                  0.3|       14.75|                 2.5|       Y|                NULL|                 NULL|     NULL|     NULL|       234|Manhattan|            Union Sq| Yellow Zone|       148|Manhattan|     Lower East Side| Yellow Zone|\n",
            "|    3|     1.0| 2021-07-01 00:59:44|  2021-07-01 01:07:09|            1.0|          1.4|       1.0|                 N|          79|         249|         1.0|        7.0|  3.0|    0.5|       1.5|         0.0|                  0.3|        12.3|                 2.5|       Y|                NULL|                 NULL|     NULL|     NULL|        79|Manhattan|        East Village| Yellow Zone|       249|Manhattan|        West Village| Yellow Zone|\n",
            "|   10|     1.0| 2021-07-01 00:17:54|  2021-07-01 00:27:11|            2.0|          3.5|       1.0|                 N|          79|         141|         1.0|       11.5|  3.0|    0.5|       2.0|         0.0|                  0.3|        17.3|                 2.5|       Y|                NULL|                 NULL|     NULL|     NULL|        79|Manhattan|        East Village| Yellow Zone|       141|Manhattan|     Lenox Hill West| Yellow Zone|\n",
            "|    2|     1.0| 2021-07-01 00:48:33|  2021-07-01 00:54:58|            1.0|          2.8|       1.0|                 N|          88|         232|         2.0|       10.0|  3.0|    0.5|       0.0|         0.0|                  0.3|        13.8|                 2.5|       Y|                NULL|                 NULL|     NULL|     NULL|        88|Manhattan|Financial Distric...| Yellow Zone|       232|Manhattan|Two Bridges/Sewar...| Yellow Zone|\n",
            "|    5|     1.0| 2021-07-01 00:10:49|  2021-07-01 00:18:42|            1.0|          1.6|       1.0|                 N|         114|          90|         1.0|        7.5|  3.0|    0.5|       1.5|         0.0|                  0.3|        12.8|                 2.5|       Y|                NULL|                 NULL|     NULL|     NULL|       114|Manhattan|Greenwich Village...| Yellow Zone|        90|Manhattan|            Flatiron| Yellow Zone|\n",
            "|    7|     1.0| 2021-07-01 00:45:10|  2021-07-01 00:52:46|            1.0|          2.0|       1.0|                 N|         114|          48|         1.0|        8.5|  3.0|    0.5|      2.45|         0.0|                  0.3|       14.75|                 2.5|       Y|                NULL|                 NULL|     NULL|     NULL|       114|Manhattan|Greenwich Village...| Yellow Zone|        48|Manhattan|        Clinton East| Yellow Zone|\n",
            "|    8|     1.0| 2021-07-01 00:55:43|  2021-07-01 01:10:56|            1.0|          5.7|       1.0|                 N|          48|         152|         2.0|       18.5|  3.0|    0.5|       0.0|         0.0|                  0.3|        22.3|                 2.5|       Y|                NULL|                 NULL|     NULL|     NULL|        48|Manhattan|        Clinton East| Yellow Zone|       152|Manhattan|      Manhattanville|   Boro Zone|\n",
            "|    4|     1.0| 2021-07-01 00:08:35|  2021-07-01 00:16:28|            0.0|          2.0|       1.0|                 N|         142|         238|         1.0|        8.5|  3.0|    0.5|       0.0|         0.0|                  0.3|        12.3|                 2.5|       Y|                NULL|                 NULL|     NULL|     NULL|       142|Manhattan| Lincoln Square East| Yellow Zone|       238|Manhattan|Upper West Side N...| Yellow Zone|\n",
            "|    0|     1.0| 2021-07-01 00:08:51|  2021-07-01 00:13:05|            1.0|          0.8|       1.0|                 N|          90|          68|         1.0|        5.0|  3.0|    0.5|       0.0|         0.0|                  0.3|         8.8|                 2.5|       Y|                NULL|                 NULL|     NULL|     NULL|        90|Manhattan|            Flatiron| Yellow Zone|        68|Manhattan|        East Chelsea| Yellow Zone|\n",
            "+-----+--------+--------------------+---------------------+---------------+-------------+----------+------------------+------------+------------+------------+-----------+-----+-------+----------+------------+---------------------+------------+--------------------+--------+--------------------+---------------------+---------+---------+----------+---------+--------------------+------------+----------+---------+--------------------+------------+\n",
            "only showing top 10 rows\n",
            "\n"
          ]
        },
        {
          "output_type": "display_data",
          "data": {
            "text/plain": [
              "None"
            ]
          },
          "metadata": {}
        }
      ]
    },
    {
      "cell_type": "markdown",
      "source": [
        "The zone names have been added here and through the end of the table, the zones are visible."
      ],
      "metadata": {
        "id": "sPU3TOGFX9QA"
      }
    },
    {
      "cell_type": "markdown",
      "source": [
        "# **Task 2.2 - Unit profitability**\n",
        "In this section, it is to compute the column unit_profitability = total_amount / trip_distance to ultimately achieve the profitability for the trips made."
      ],
      "metadata": {
        "id": "--GJA_Ck_qlV"
      }
    },
    {
      "cell_type": "code",
      "source": [
        "def t22_calc_profit(df):\n",
        "    # Calculating unit profitability\n",
        "    df = df.withColumn(\"unit_profitability\", col(\"total_amount\") / col(\"trip_distance\"))\n",
        "\n",
        "    return df"
      ],
      "metadata": {
        "id": "iXN4-EZ0_z8B"
      },
      "execution_count": 17,
      "outputs": []
    },
    {
      "cell_type": "code",
      "source": [
        "# Executing task 2.2\n",
        "trips_22 = t22_calc_profit(trips_21)\n",
        "\n",
        "# Printing the count of rows after adding the new column\n",
        "print_count(trips_22)\n",
        "\n",
        "# Displaying the first 10 rows (optional, for small datasets)\n",
        "display(trips_22.show(10))"
      ],
      "metadata": {
        "colab": {
          "base_uri": "https://localhost:8080/",
          "height": 358
        },
        "id": "OUc6eh70_1HZ",
        "outputId": "a00b913c-8268-4ceb-dc82-be745e0a8fcb"
      },
      "execution_count": 18,
      "outputs": [
        {
          "output_type": "stream",
          "name": "stdout",
          "text": [
            "Row count: 2,493,071\n",
            "+-----+--------+--------------------+---------------------+---------------+-------------+----------+------------------+------------+------------+------------+-----------+-----+-------+----------+------------+---------------------+------------+--------------------+--------+--------------------+---------------------+---------+---------+----------+---------+--------------------+------------+----------+---------+--------------------+------------+------------------+\n",
            "|index|VendorID|tpep_pickup_datetime|tpep_dropoff_datetime|passenger_count|trip_distance|RatecodeID|store_and_fwd_flag|PULocationID|DOLocationID|payment_type|fare_amount|extra|mta_tax|tip_amount|tolls_amount|improvement_surcharge|total_amount|congestion_surcharge|cab_type|lpep_pickup_datetime|lpep_dropoff_datetime|ehail_fee|trip_type|LocationID|  Borough|              PUZone|service_zone|LocationID|  Borough|              DOZone|service_zone|unit_profitability|\n",
            "+-----+--------+--------------------+---------------------+---------------+-------------+----------+------------------+------------+------------+------------+-----------+-----+-------+----------+------------+---------------------+------------+--------------------+--------+--------------------+---------------------+---------+---------+----------+---------+--------------------+------------+----------+---------+--------------------+------------+------------------+\n",
            "|    1|     1.0| 2021-07-01 00:22:39|  2021-07-01 00:25:58|            1.0|          0.9|       1.0|                 N|         113|          90|         2.0|        5.0|  3.0|    0.5|       0.0|         0.0|                  0.3|         8.8|                 2.5|       Y|                NULL|                 NULL|     NULL|     NULL|       113|Manhattan|Greenwich Village...| Yellow Zone|        90|Manhattan|            Flatiron| Yellow Zone| 9.777777777777779|\n",
            "|    9|     1.0| 2021-07-01 00:04:24|  2021-07-01 00:13:23|            1.0|          1.8|       1.0|                 N|         234|         148|         1.0|        8.5|  3.0|    0.5|      2.45|         0.0|                  0.3|       14.75|                 2.5|       Y|                NULL|                 NULL|     NULL|     NULL|       234|Manhattan|            Union Sq| Yellow Zone|       148|Manhattan|     Lower East Side| Yellow Zone| 8.194444444444445|\n",
            "|    3|     1.0| 2021-07-01 00:59:44|  2021-07-01 01:07:09|            1.0|          1.4|       1.0|                 N|          79|         249|         1.0|        7.0|  3.0|    0.5|       1.5|         0.0|                  0.3|        12.3|                 2.5|       Y|                NULL|                 NULL|     NULL|     NULL|        79|Manhattan|        East Village| Yellow Zone|       249|Manhattan|        West Village| Yellow Zone| 8.785714285714286|\n",
            "|   10|     1.0| 2021-07-01 00:17:54|  2021-07-01 00:27:11|            2.0|          3.5|       1.0|                 N|          79|         141|         1.0|       11.5|  3.0|    0.5|       2.0|         0.0|                  0.3|        17.3|                 2.5|       Y|                NULL|                 NULL|     NULL|     NULL|        79|Manhattan|        East Village| Yellow Zone|       141|Manhattan|     Lenox Hill West| Yellow Zone| 4.942857142857143|\n",
            "|    2|     1.0| 2021-07-01 00:48:33|  2021-07-01 00:54:58|            1.0|          2.8|       1.0|                 N|          88|         232|         2.0|       10.0|  3.0|    0.5|       0.0|         0.0|                  0.3|        13.8|                 2.5|       Y|                NULL|                 NULL|     NULL|     NULL|        88|Manhattan|Financial Distric...| Yellow Zone|       232|Manhattan|Two Bridges/Sewar...| Yellow Zone| 4.928571428571429|\n",
            "|    5|     1.0| 2021-07-01 00:10:49|  2021-07-01 00:18:42|            1.0|          1.6|       1.0|                 N|         114|          90|         1.0|        7.5|  3.0|    0.5|       1.5|         0.0|                  0.3|        12.8|                 2.5|       Y|                NULL|                 NULL|     NULL|     NULL|       114|Manhattan|Greenwich Village...| Yellow Zone|        90|Manhattan|            Flatiron| Yellow Zone|               8.0|\n",
            "|    7|     1.0| 2021-07-01 00:45:10|  2021-07-01 00:52:46|            1.0|          2.0|       1.0|                 N|         114|          48|         1.0|        8.5|  3.0|    0.5|      2.45|         0.0|                  0.3|       14.75|                 2.5|       Y|                NULL|                 NULL|     NULL|     NULL|       114|Manhattan|Greenwich Village...| Yellow Zone|        48|Manhattan|        Clinton East| Yellow Zone|             7.375|\n",
            "|    8|     1.0| 2021-07-01 00:55:43|  2021-07-01 01:10:56|            1.0|          5.7|       1.0|                 N|          48|         152|         2.0|       18.5|  3.0|    0.5|       0.0|         0.0|                  0.3|        22.3|                 2.5|       Y|                NULL|                 NULL|     NULL|     NULL|        48|Manhattan|        Clinton East| Yellow Zone|       152|Manhattan|      Manhattanville|   Boro Zone| 3.912280701754386|\n",
            "|    4|     1.0| 2021-07-01 00:08:35|  2021-07-01 00:16:28|            0.0|          2.0|       1.0|                 N|         142|         238|         1.0|        8.5|  3.0|    0.5|       0.0|         0.0|                  0.3|        12.3|                 2.5|       Y|                NULL|                 NULL|     NULL|     NULL|       142|Manhattan| Lincoln Square East| Yellow Zone|       238|Manhattan|Upper West Side N...| Yellow Zone|              6.15|\n",
            "|    0|     1.0| 2021-07-01 00:08:51|  2021-07-01 00:13:05|            1.0|          0.8|       1.0|                 N|          90|          68|         1.0|        5.0|  3.0|    0.5|       0.0|         0.0|                  0.3|         8.8|                 2.5|       Y|                NULL|                 NULL|     NULL|     NULL|        90|Manhattan|            Flatiron| Yellow Zone|        68|Manhattan|        East Chelsea| Yellow Zone|              11.0|\n",
            "+-----+--------+--------------------+---------------------+---------------+-------------+----------+------------------+------------+------------+------------+-----------+-----+-------+----------+------------+---------------------+------------+--------------------+--------+--------------------+---------------------+---------+---------+----------+---------+--------------------+------------+----------+---------+--------------------+------------+------------------+\n",
            "only showing top 10 rows\n",
            "\n"
          ]
        },
        {
          "output_type": "display_data",
          "data": {
            "text/plain": [
              "None"
            ]
          },
          "metadata": {}
        }
      ]
    },
    {
      "cell_type": "markdown",
      "source": [
        "Now that we have the zones added to the dataset plus Unit Profitability have been calculated, let's rank zones by traffic, passenger volume and profitability. First, let's have the summary of the interzonal trips."
      ],
      "metadata": {
        "id": "4cpuIUXKglp4"
      }
    },
    {
      "cell_type": "markdown",
      "source": [
        "# **Task 3.1 - Summary of Interzonal Travel**\n",
        "In the following codeblock, the objective is to build a graph data structure of zone-to-zone traffic, representing aggregated data about trips between any two zones.\n",
        "The graph will have one node for each zone and one edge connecting each pair of zones. In addition, edges contain aggregate information about all trips between those zones.\n",
        "The aggregate information of interzonal travel in the following code snippet includes the following data:\n",
        "\n",
        "- `average_unit_profit` - the average unit profitability (calculated as `mean(unit_profitabilty)`).\n",
        "- `trips_count` -- the total number of recorded trips.\n",
        "- `total_passengers` -- the total number of passenger across all trips (sum of `passenger_count`).\n"
      ],
      "metadata": {
        "id": "TEo8yumQADEM"
      }
    },
    {
      "cell_type": "code",
      "source": [
        "from pyspark.sql.functions import avg, sum, count\n",
        "\n",
        "def t31_summarise_trips(df):\n",
        "    # Group by PULocationID and DOLocationID and calculate the required aggregations\n",
        "    graph = df.groupBy(\"PULocationID\", \"DOLocationID\").agg(\n",
        "        avg(\"unit_profitability\").alias(\"average_unit_profit\"),\n",
        "        count(\"*\").alias(\"trips_count\"),\n",
        "        sum(\"passenger_count\").alias(\"total_passengers\")\n",
        "    )\n",
        "\n",
        "    return graph"
      ],
      "metadata": {
        "id": "2bFsE30UAID0"
      },
      "execution_count": 19,
      "outputs": []
    },
    {
      "cell_type": "code",
      "source": [
        "# Execute task 3.1\n",
        "graph = t31_summarise_trips(trips_22)\n",
        "\n",
        "# Print the count of rows after summarization\n",
        "print_count(graph)\n",
        "\n",
        "# Display the first 10 rows (optional, for small datasets)\n",
        "display(graph.show(10))"
      ],
      "metadata": {
        "colab": {
          "base_uri": "https://localhost:8080/",
          "height": 338
        },
        "id": "5Dr_yny1ALqz",
        "outputId": "cbff895d-56ea-4eee-ef9b-09a47df28755"
      },
      "execution_count": 20,
      "outputs": [
        {
          "output_type": "stream",
          "name": "stdout",
          "text": [
            "Row count: 13,641\n",
            "+------------+------------+-------------------+-----------+----------------+\n",
            "|PULocationID|DOLocationID|average_unit_profit|trips_count|total_passengers|\n",
            "+------------+------------+-------------------+-----------+----------------+\n",
            "|          26|         108|   6.45843987996281|         11|             1.0|\n",
            "|          29|         149|  6.979548748975862|          2|             3.0|\n",
            "|          26|          35| 5.2018203644383085|          6|             1.0|\n",
            "|          26|          26| 19.718782372888125|         87|            12.0|\n",
            "|          26|         227| 13.736003592717939|         10|             2.0|\n",
            "|          26|          89|  9.049297841507073|          9|             2.0|\n",
            "|          26|          22| 16.754413320882986|         14|             3.0|\n",
            "|          26|          85|  7.016426729322668|          4|             5.0|\n",
            "|          26|         133| 11.978564649895173|         14|             2.0|\n",
            "|          29|          29| 20.315648480979206|          8|             2.0|\n",
            "+------------+------------+-------------------+-----------+----------------+\n",
            "only showing top 10 rows\n",
            "\n"
          ]
        },
        {
          "output_type": "display_data",
          "data": {
            "text/plain": [
              "None"
            ]
          },
          "metadata": {}
        }
      ]
    },
    {
      "cell_type": "markdown",
      "source": [
        "\n",
        "This graph is represented as a new dataframe, with schema:\n",
        "\n",
        "\\[`PULocationID`, `DOLocationID`, `average_unit_profit`, `trips_count`, `total_passengers` \\]\n",
        "\n",
        "By ranking zones based on these metrics, the followings could be identified:\n",
        "\n",
        "\n",
        "**The busiest zones** (highest trip volume).\n",
        "\n",
        "\n",
        "**The most profitable zones** (highest average profitability).\n",
        "\n",
        "\n",
        "**The zones with the highest passenger demand** (highest passenger volume)."
      ],
      "metadata": {
        "id": "hGRkt0eelpyh"
      }
    },
    {
      "cell_type": "markdown",
      "source": [
        "# **Task 3.2 - Obtain top-10 zones**"
      ],
      "metadata": {
        "id": "Ac9FrhTbAWWo"
      }
    },
    {
      "cell_type": "code",
      "source": [
        "from pyspark.sql.functions import desc\n",
        "\n",
        "def t32_summarise_zones_pairs(df, zones_df = zone_names):\n",
        "    # Joining with zone_names to get the zone names\n",
        "    df = df.join(zones_df.withColumnRenamed(\"Zone\", \"PUZone\"), df.PULocationID == zones_df.LocationID, \"left\")\n",
        "\n",
        "    # Drop the LocationID column as it is no longer needed\n",
        "    df = df.drop(\"LocationID\")\n",
        "\n",
        "    return df\n",
        "\n",
        "# Top 10 ranked zones by traffic (trip volume)\n",
        "def t32_top10_trips(df_zones):\n",
        "    # Sum trips_count over all outgoing edges for each zone\n",
        "    top10_trips = df_zones.groupBy(\"PUZone\").agg(\n",
        "        sum(\"trips_count\").alias(\"total_trips\")\n",
        "    ).orderBy(desc(\"total_trips\")).limit(10)\n",
        "\n",
        "    return top10_trips.toPandas() # Convert to Pandas DataFrame\n",
        "\n",
        "\n",
        "# Top 10 ranked zones by profit\n",
        "def t32_top10_profit(df_zones):\n",
        "    # Average average_unit_profit over all outgoing edges for each zone\n",
        "    top10_profit = df_zones.groupBy(\"PUZone\").agg(\n",
        "        avg(\"average_unit_profit\").alias(\"average_profit\")\n",
        "    ).orderBy(desc(\"average_profit\")).limit(10)\n",
        "\n",
        "    return top10_profit.toPandas() # Convert to Pandas DataFrame\n",
        "\n",
        "\n",
        "# Top 10 ranked zones by passenger volume\n",
        "def t32_top10_passenger(df_zones):\n",
        "    # Sum total_passengers over all outgoing edges for each zone\n",
        "    top10_passenger = df_zones.groupBy(\"PUZone\").agg(\n",
        "        sum(\"total_passengers\").alias(\"total_passengers\")\n",
        "    ).orderBy(desc(\"total_passengers\")).limit(10)\n",
        "\n",
        "    return top10_passenger.toPandas() # Convert to Pandas DataFrame"
      ],
      "metadata": {
        "id": "N3V370BeAYbK"
      },
      "execution_count": 21,
      "outputs": []
    },
    {
      "cell_type": "markdown",
      "source": [
        "The charts below represent the top zones having highest total trips [chart 1], average_profit [chart 2] and totla passengers [chart 3]"
      ],
      "metadata": {
        "id": "dTdUmfkrmzr_"
      }
    },
    {
      "cell_type": "code",
      "source": [
        "\n",
        "zones = t32_summarise_zones_pairs(graph)\n",
        "\n",
        "top10_trips = t32_top10_trips(zones)\n",
        "top10_profit = t32_top10_profit(zones)\n",
        "top10_passenger = t32_top10_passenger(zones)\n",
        "\n",
        "# Display the results\n",
        "display(top10_trips)\n",
        "display(top10_profit)\n",
        "display(top10_passenger)"
      ],
      "metadata": {
        "colab": {
          "base_uri": "https://localhost:8080/",
          "height": 1055
        },
        "id": "LtLJfsQ1AcEi",
        "outputId": "3b6bd39b-4fb9-4e85-f904-94974ed4e818"
      },
      "execution_count": 22,
      "outputs": [
        {
          "output_type": "display_data",
          "data": {
            "text/plain": [
              "                         PUZone  total_trips\n",
              "0         Upper East Side South       122291\n",
              "1         Upper East Side North       104141\n",
              "2  Penn Station/Madison Sq West        97125\n",
              "3                Midtown Center        93978\n",
              "4                   Murray Hill        88803\n",
              "5                  Midtown East        85585\n",
              "6           Lincoln Square East        81244\n",
              "7         Upper West Side South        75079\n",
              "8                  Clinton East        74873\n",
              "9               Lenox Hill West        74634"
            ],
            "text/html": [
              "\n",
              "  <div id=\"df-f037742f-1155-46be-9e3e-0282b11418fb\" class=\"colab-df-container\">\n",
              "    <div>\n",
              "<style scoped>\n",
              "    .dataframe tbody tr th:only-of-type {\n",
              "        vertical-align: middle;\n",
              "    }\n",
              "\n",
              "    .dataframe tbody tr th {\n",
              "        vertical-align: top;\n",
              "    }\n",
              "\n",
              "    .dataframe thead th {\n",
              "        text-align: right;\n",
              "    }\n",
              "</style>\n",
              "<table border=\"1\" class=\"dataframe\">\n",
              "  <thead>\n",
              "    <tr style=\"text-align: right;\">\n",
              "      <th></th>\n",
              "      <th>PUZone</th>\n",
              "      <th>total_trips</th>\n",
              "    </tr>\n",
              "  </thead>\n",
              "  <tbody>\n",
              "    <tr>\n",
              "      <th>0</th>\n",
              "      <td>Upper East Side South</td>\n",
              "      <td>122291</td>\n",
              "    </tr>\n",
              "    <tr>\n",
              "      <th>1</th>\n",
              "      <td>Upper East Side North</td>\n",
              "      <td>104141</td>\n",
              "    </tr>\n",
              "    <tr>\n",
              "      <th>2</th>\n",
              "      <td>Penn Station/Madison Sq West</td>\n",
              "      <td>97125</td>\n",
              "    </tr>\n",
              "    <tr>\n",
              "      <th>3</th>\n",
              "      <td>Midtown Center</td>\n",
              "      <td>93978</td>\n",
              "    </tr>\n",
              "    <tr>\n",
              "      <th>4</th>\n",
              "      <td>Murray Hill</td>\n",
              "      <td>88803</td>\n",
              "    </tr>\n",
              "    <tr>\n",
              "      <th>5</th>\n",
              "      <td>Midtown East</td>\n",
              "      <td>85585</td>\n",
              "    </tr>\n",
              "    <tr>\n",
              "      <th>6</th>\n",
              "      <td>Lincoln Square East</td>\n",
              "      <td>81244</td>\n",
              "    </tr>\n",
              "    <tr>\n",
              "      <th>7</th>\n",
              "      <td>Upper West Side South</td>\n",
              "      <td>75079</td>\n",
              "    </tr>\n",
              "    <tr>\n",
              "      <th>8</th>\n",
              "      <td>Clinton East</td>\n",
              "      <td>74873</td>\n",
              "    </tr>\n",
              "    <tr>\n",
              "      <th>9</th>\n",
              "      <td>Lenox Hill West</td>\n",
              "      <td>74634</td>\n",
              "    </tr>\n",
              "  </tbody>\n",
              "</table>\n",
              "</div>\n",
              "    <div class=\"colab-df-buttons\">\n",
              "\n",
              "  <div class=\"colab-df-container\">\n",
              "    <button class=\"colab-df-convert\" onclick=\"convertToInteractive('df-f037742f-1155-46be-9e3e-0282b11418fb')\"\n",
              "            title=\"Convert this dataframe to an interactive table.\"\n",
              "            style=\"display:none;\">\n",
              "\n",
              "  <svg xmlns=\"http://www.w3.org/2000/svg\" height=\"24px\" viewBox=\"0 -960 960 960\">\n",
              "    <path d=\"M120-120v-720h720v720H120Zm60-500h600v-160H180v160Zm220 220h160v-160H400v160Zm0 220h160v-160H400v160ZM180-400h160v-160H180v160Zm440 0h160v-160H620v160ZM180-180h160v-160H180v160Zm440 0h160v-160H620v160Z\"/>\n",
              "  </svg>\n",
              "    </button>\n",
              "\n",
              "  <style>\n",
              "    .colab-df-container {\n",
              "      display:flex;\n",
              "      gap: 12px;\n",
              "    }\n",
              "\n",
              "    .colab-df-convert {\n",
              "      background-color: #E8F0FE;\n",
              "      border: none;\n",
              "      border-radius: 50%;\n",
              "      cursor: pointer;\n",
              "      display: none;\n",
              "      fill: #1967D2;\n",
              "      height: 32px;\n",
              "      padding: 0 0 0 0;\n",
              "      width: 32px;\n",
              "    }\n",
              "\n",
              "    .colab-df-convert:hover {\n",
              "      background-color: #E2EBFA;\n",
              "      box-shadow: 0px 1px 2px rgba(60, 64, 67, 0.3), 0px 1px 3px 1px rgba(60, 64, 67, 0.15);\n",
              "      fill: #174EA6;\n",
              "    }\n",
              "\n",
              "    .colab-df-buttons div {\n",
              "      margin-bottom: 4px;\n",
              "    }\n",
              "\n",
              "    [theme=dark] .colab-df-convert {\n",
              "      background-color: #3B4455;\n",
              "      fill: #D2E3FC;\n",
              "    }\n",
              "\n",
              "    [theme=dark] .colab-df-convert:hover {\n",
              "      background-color: #434B5C;\n",
              "      box-shadow: 0px 1px 3px 1px rgba(0, 0, 0, 0.15);\n",
              "      filter: drop-shadow(0px 1px 2px rgba(0, 0, 0, 0.3));\n",
              "      fill: #FFFFFF;\n",
              "    }\n",
              "  </style>\n",
              "\n",
              "    <script>\n",
              "      const buttonEl =\n",
              "        document.querySelector('#df-f037742f-1155-46be-9e3e-0282b11418fb button.colab-df-convert');\n",
              "      buttonEl.style.display =\n",
              "        google.colab.kernel.accessAllowed ? 'block' : 'none';\n",
              "\n",
              "      async function convertToInteractive(key) {\n",
              "        const element = document.querySelector('#df-f037742f-1155-46be-9e3e-0282b11418fb');\n",
              "        const dataTable =\n",
              "          await google.colab.kernel.invokeFunction('convertToInteractive',\n",
              "                                                    [key], {});\n",
              "        if (!dataTable) return;\n",
              "\n",
              "        const docLinkHtml = 'Like what you see? Visit the ' +\n",
              "          '<a target=\"_blank\" href=https://colab.research.google.com/notebooks/data_table.ipynb>data table notebook</a>'\n",
              "          + ' to learn more about interactive tables.';\n",
              "        element.innerHTML = '';\n",
              "        dataTable['output_type'] = 'display_data';\n",
              "        await google.colab.output.renderOutput(dataTable, element);\n",
              "        const docLink = document.createElement('div');\n",
              "        docLink.innerHTML = docLinkHtml;\n",
              "        element.appendChild(docLink);\n",
              "      }\n",
              "    </script>\n",
              "  </div>\n",
              "\n",
              "\n",
              "<div id=\"df-146d9a0e-8742-4244-a7c7-641cb17eee23\">\n",
              "  <button class=\"colab-df-quickchart\" onclick=\"quickchart('df-146d9a0e-8742-4244-a7c7-641cb17eee23')\"\n",
              "            title=\"Suggest charts\"\n",
              "            style=\"display:none;\">\n",
              "\n",
              "<svg xmlns=\"http://www.w3.org/2000/svg\" height=\"24px\"viewBox=\"0 0 24 24\"\n",
              "     width=\"24px\">\n",
              "    <g>\n",
              "        <path d=\"M19 3H5c-1.1 0-2 .9-2 2v14c0 1.1.9 2 2 2h14c1.1 0 2-.9 2-2V5c0-1.1-.9-2-2-2zM9 17H7v-7h2v7zm4 0h-2V7h2v10zm4 0h-2v-4h2v4z\"/>\n",
              "    </g>\n",
              "</svg>\n",
              "  </button>\n",
              "\n",
              "<style>\n",
              "  .colab-df-quickchart {\n",
              "      --bg-color: #E8F0FE;\n",
              "      --fill-color: #1967D2;\n",
              "      --hover-bg-color: #E2EBFA;\n",
              "      --hover-fill-color: #174EA6;\n",
              "      --disabled-fill-color: #AAA;\n",
              "      --disabled-bg-color: #DDD;\n",
              "  }\n",
              "\n",
              "  [theme=dark] .colab-df-quickchart {\n",
              "      --bg-color: #3B4455;\n",
              "      --fill-color: #D2E3FC;\n",
              "      --hover-bg-color: #434B5C;\n",
              "      --hover-fill-color: #FFFFFF;\n",
              "      --disabled-bg-color: #3B4455;\n",
              "      --disabled-fill-color: #666;\n",
              "  }\n",
              "\n",
              "  .colab-df-quickchart {\n",
              "    background-color: var(--bg-color);\n",
              "    border: none;\n",
              "    border-radius: 50%;\n",
              "    cursor: pointer;\n",
              "    display: none;\n",
              "    fill: var(--fill-color);\n",
              "    height: 32px;\n",
              "    padding: 0;\n",
              "    width: 32px;\n",
              "  }\n",
              "\n",
              "  .colab-df-quickchart:hover {\n",
              "    background-color: var(--hover-bg-color);\n",
              "    box-shadow: 0 1px 2px rgba(60, 64, 67, 0.3), 0 1px 3px 1px rgba(60, 64, 67, 0.15);\n",
              "    fill: var(--button-hover-fill-color);\n",
              "  }\n",
              "\n",
              "  .colab-df-quickchart-complete:disabled,\n",
              "  .colab-df-quickchart-complete:disabled:hover {\n",
              "    background-color: var(--disabled-bg-color);\n",
              "    fill: var(--disabled-fill-color);\n",
              "    box-shadow: none;\n",
              "  }\n",
              "\n",
              "  .colab-df-spinner {\n",
              "    border: 2px solid var(--fill-color);\n",
              "    border-color: transparent;\n",
              "    border-bottom-color: var(--fill-color);\n",
              "    animation:\n",
              "      spin 1s steps(1) infinite;\n",
              "  }\n",
              "\n",
              "  @keyframes spin {\n",
              "    0% {\n",
              "      border-color: transparent;\n",
              "      border-bottom-color: var(--fill-color);\n",
              "      border-left-color: var(--fill-color);\n",
              "    }\n",
              "    20% {\n",
              "      border-color: transparent;\n",
              "      border-left-color: var(--fill-color);\n",
              "      border-top-color: var(--fill-color);\n",
              "    }\n",
              "    30% {\n",
              "      border-color: transparent;\n",
              "      border-left-color: var(--fill-color);\n",
              "      border-top-color: var(--fill-color);\n",
              "      border-right-color: var(--fill-color);\n",
              "    }\n",
              "    40% {\n",
              "      border-color: transparent;\n",
              "      border-right-color: var(--fill-color);\n",
              "      border-top-color: var(--fill-color);\n",
              "    }\n",
              "    60% {\n",
              "      border-color: transparent;\n",
              "      border-right-color: var(--fill-color);\n",
              "    }\n",
              "    80% {\n",
              "      border-color: transparent;\n",
              "      border-right-color: var(--fill-color);\n",
              "      border-bottom-color: var(--fill-color);\n",
              "    }\n",
              "    90% {\n",
              "      border-color: transparent;\n",
              "      border-bottom-color: var(--fill-color);\n",
              "    }\n",
              "  }\n",
              "</style>\n",
              "\n",
              "  <script>\n",
              "    async function quickchart(key) {\n",
              "      const quickchartButtonEl =\n",
              "        document.querySelector('#' + key + ' button');\n",
              "      quickchartButtonEl.disabled = true;  // To prevent multiple clicks.\n",
              "      quickchartButtonEl.classList.add('colab-df-spinner');\n",
              "      try {\n",
              "        const charts = await google.colab.kernel.invokeFunction(\n",
              "            'suggestCharts', [key], {});\n",
              "      } catch (error) {\n",
              "        console.error('Error during call to suggestCharts:', error);\n",
              "      }\n",
              "      quickchartButtonEl.classList.remove('colab-df-spinner');\n",
              "      quickchartButtonEl.classList.add('colab-df-quickchart-complete');\n",
              "    }\n",
              "    (() => {\n",
              "      let quickchartButtonEl =\n",
              "        document.querySelector('#df-146d9a0e-8742-4244-a7c7-641cb17eee23 button');\n",
              "      quickchartButtonEl.style.display =\n",
              "        google.colab.kernel.accessAllowed ? 'block' : 'none';\n",
              "    })();\n",
              "  </script>\n",
              "</div>\n",
              "\n",
              "  <div id=\"id_32d8f69a-4696-4e37-ae76-c892653bc1e6\">\n",
              "    <style>\n",
              "      .colab-df-generate {\n",
              "        background-color: #E8F0FE;\n",
              "        border: none;\n",
              "        border-radius: 50%;\n",
              "        cursor: pointer;\n",
              "        display: none;\n",
              "        fill: #1967D2;\n",
              "        height: 32px;\n",
              "        padding: 0 0 0 0;\n",
              "        width: 32px;\n",
              "      }\n",
              "\n",
              "      .colab-df-generate:hover {\n",
              "        background-color: #E2EBFA;\n",
              "        box-shadow: 0px 1px 2px rgba(60, 64, 67, 0.3), 0px 1px 3px 1px rgba(60, 64, 67, 0.15);\n",
              "        fill: #174EA6;\n",
              "      }\n",
              "\n",
              "      [theme=dark] .colab-df-generate {\n",
              "        background-color: #3B4455;\n",
              "        fill: #D2E3FC;\n",
              "      }\n",
              "\n",
              "      [theme=dark] .colab-df-generate:hover {\n",
              "        background-color: #434B5C;\n",
              "        box-shadow: 0px 1px 3px 1px rgba(0, 0, 0, 0.15);\n",
              "        filter: drop-shadow(0px 1px 2px rgba(0, 0, 0, 0.3));\n",
              "        fill: #FFFFFF;\n",
              "      }\n",
              "    </style>\n",
              "    <button class=\"colab-df-generate\" onclick=\"generateWithVariable('top10_trips')\"\n",
              "            title=\"Generate code using this dataframe.\"\n",
              "            style=\"display:none;\">\n",
              "\n",
              "  <svg xmlns=\"http://www.w3.org/2000/svg\" height=\"24px\"viewBox=\"0 0 24 24\"\n",
              "       width=\"24px\">\n",
              "    <path d=\"M7,19H8.4L18.45,9,17,7.55,7,17.6ZM5,21V16.75L18.45,3.32a2,2,0,0,1,2.83,0l1.4,1.43a1.91,1.91,0,0,1,.58,1.4,1.91,1.91,0,0,1-.58,1.4L9.25,21ZM18.45,9,17,7.55Zm-12,3A5.31,5.31,0,0,0,4.9,8.1,5.31,5.31,0,0,0,1,6.5,5.31,5.31,0,0,0,4.9,4.9,5.31,5.31,0,0,0,6.5,1,5.31,5.31,0,0,0,8.1,4.9,5.31,5.31,0,0,0,12,6.5,5.46,5.46,0,0,0,6.5,12Z\"/>\n",
              "  </svg>\n",
              "    </button>\n",
              "    <script>\n",
              "      (() => {\n",
              "      const buttonEl =\n",
              "        document.querySelector('#id_32d8f69a-4696-4e37-ae76-c892653bc1e6 button.colab-df-generate');\n",
              "      buttonEl.style.display =\n",
              "        google.colab.kernel.accessAllowed ? 'block' : 'none';\n",
              "\n",
              "      buttonEl.onclick = () => {\n",
              "        google.colab.notebook.generateWithVariable('top10_trips');\n",
              "      }\n",
              "      })();\n",
              "    </script>\n",
              "  </div>\n",
              "\n",
              "    </div>\n",
              "  </div>\n"
            ],
            "application/vnd.google.colaboratory.intrinsic+json": {
              "type": "dataframe",
              "variable_name": "top10_trips",
              "summary": "{\n  \"name\": \"top10_trips\",\n  \"rows\": 10,\n  \"fields\": [\n    {\n      \"column\": \"PUZone\",\n      \"properties\": {\n        \"dtype\": \"string\",\n        \"num_unique_values\": 10,\n        \"samples\": [\n          \"Clinton East\",\n          \"Upper East Side North\",\n          \"Midtown East\"\n        ],\n        \"semantic_type\": \"\",\n        \"description\": \"\"\n      }\n    },\n    {\n      \"column\": \"total_trips\",\n      \"properties\": {\n        \"dtype\": \"number\",\n        \"std\": 15253,\n        \"min\": 74634,\n        \"max\": 122291,\n        \"num_unique_values\": 10,\n        \"samples\": [\n          74873,\n          104141,\n          85585\n        ],\n        \"semantic_type\": \"\",\n        \"description\": \"\"\n      }\n    }\n  ]\n}"
            }
          },
          "metadata": {}
        },
        {
          "output_type": "display_data",
          "data": {
            "text/plain": [
              "                             PUZone  average_profit\n",
              "0           Bay Terrace/Fort Totten      311.933068\n",
              "1                      Baisley Park      100.005927\n",
              "2                     Prospect Park       93.054681\n",
              "3  Saint Michaels Cemetery/Woodside       66.146792\n",
              "4             Van Cortlandt Village       48.690600\n",
              "5               Grymes Hill/Clifton       38.650000\n",
              "6                      Crotona Park       36.844371\n",
              "7              Flatbush/Ditmas Park       32.919301\n",
              "8                       Eastchester       31.208158\n",
              "9      Flushing Meadows-Corona Park       29.539581"
            ],
            "text/html": [
              "\n",
              "  <div id=\"df-03741d19-88b6-4ea9-92f5-71a748604df2\" class=\"colab-df-container\">\n",
              "    <div>\n",
              "<style scoped>\n",
              "    .dataframe tbody tr th:only-of-type {\n",
              "        vertical-align: middle;\n",
              "    }\n",
              "\n",
              "    .dataframe tbody tr th {\n",
              "        vertical-align: top;\n",
              "    }\n",
              "\n",
              "    .dataframe thead th {\n",
              "        text-align: right;\n",
              "    }\n",
              "</style>\n",
              "<table border=\"1\" class=\"dataframe\">\n",
              "  <thead>\n",
              "    <tr style=\"text-align: right;\">\n",
              "      <th></th>\n",
              "      <th>PUZone</th>\n",
              "      <th>average_profit</th>\n",
              "    </tr>\n",
              "  </thead>\n",
              "  <tbody>\n",
              "    <tr>\n",
              "      <th>0</th>\n",
              "      <td>Bay Terrace/Fort Totten</td>\n",
              "      <td>311.933068</td>\n",
              "    </tr>\n",
              "    <tr>\n",
              "      <th>1</th>\n",
              "      <td>Baisley Park</td>\n",
              "      <td>100.005927</td>\n",
              "    </tr>\n",
              "    <tr>\n",
              "      <th>2</th>\n",
              "      <td>Prospect Park</td>\n",
              "      <td>93.054681</td>\n",
              "    </tr>\n",
              "    <tr>\n",
              "      <th>3</th>\n",
              "      <td>Saint Michaels Cemetery/Woodside</td>\n",
              "      <td>66.146792</td>\n",
              "    </tr>\n",
              "    <tr>\n",
              "      <th>4</th>\n",
              "      <td>Van Cortlandt Village</td>\n",
              "      <td>48.690600</td>\n",
              "    </tr>\n",
              "    <tr>\n",
              "      <th>5</th>\n",
              "      <td>Grymes Hill/Clifton</td>\n",
              "      <td>38.650000</td>\n",
              "    </tr>\n",
              "    <tr>\n",
              "      <th>6</th>\n",
              "      <td>Crotona Park</td>\n",
              "      <td>36.844371</td>\n",
              "    </tr>\n",
              "    <tr>\n",
              "      <th>7</th>\n",
              "      <td>Flatbush/Ditmas Park</td>\n",
              "      <td>32.919301</td>\n",
              "    </tr>\n",
              "    <tr>\n",
              "      <th>8</th>\n",
              "      <td>Eastchester</td>\n",
              "      <td>31.208158</td>\n",
              "    </tr>\n",
              "    <tr>\n",
              "      <th>9</th>\n",
              "      <td>Flushing Meadows-Corona Park</td>\n",
              "      <td>29.539581</td>\n",
              "    </tr>\n",
              "  </tbody>\n",
              "</table>\n",
              "</div>\n",
              "    <div class=\"colab-df-buttons\">\n",
              "\n",
              "  <div class=\"colab-df-container\">\n",
              "    <button class=\"colab-df-convert\" onclick=\"convertToInteractive('df-03741d19-88b6-4ea9-92f5-71a748604df2')\"\n",
              "            title=\"Convert this dataframe to an interactive table.\"\n",
              "            style=\"display:none;\">\n",
              "\n",
              "  <svg xmlns=\"http://www.w3.org/2000/svg\" height=\"24px\" viewBox=\"0 -960 960 960\">\n",
              "    <path d=\"M120-120v-720h720v720H120Zm60-500h600v-160H180v160Zm220 220h160v-160H400v160Zm0 220h160v-160H400v160ZM180-400h160v-160H180v160Zm440 0h160v-160H620v160ZM180-180h160v-160H180v160Zm440 0h160v-160H620v160Z\"/>\n",
              "  </svg>\n",
              "    </button>\n",
              "\n",
              "  <style>\n",
              "    .colab-df-container {\n",
              "      display:flex;\n",
              "      gap: 12px;\n",
              "    }\n",
              "\n",
              "    .colab-df-convert {\n",
              "      background-color: #E8F0FE;\n",
              "      border: none;\n",
              "      border-radius: 50%;\n",
              "      cursor: pointer;\n",
              "      display: none;\n",
              "      fill: #1967D2;\n",
              "      height: 32px;\n",
              "      padding: 0 0 0 0;\n",
              "      width: 32px;\n",
              "    }\n",
              "\n",
              "    .colab-df-convert:hover {\n",
              "      background-color: #E2EBFA;\n",
              "      box-shadow: 0px 1px 2px rgba(60, 64, 67, 0.3), 0px 1px 3px 1px rgba(60, 64, 67, 0.15);\n",
              "      fill: #174EA6;\n",
              "    }\n",
              "\n",
              "    .colab-df-buttons div {\n",
              "      margin-bottom: 4px;\n",
              "    }\n",
              "\n",
              "    [theme=dark] .colab-df-convert {\n",
              "      background-color: #3B4455;\n",
              "      fill: #D2E3FC;\n",
              "    }\n",
              "\n",
              "    [theme=dark] .colab-df-convert:hover {\n",
              "      background-color: #434B5C;\n",
              "      box-shadow: 0px 1px 3px 1px rgba(0, 0, 0, 0.15);\n",
              "      filter: drop-shadow(0px 1px 2px rgba(0, 0, 0, 0.3));\n",
              "      fill: #FFFFFF;\n",
              "    }\n",
              "  </style>\n",
              "\n",
              "    <script>\n",
              "      const buttonEl =\n",
              "        document.querySelector('#df-03741d19-88b6-4ea9-92f5-71a748604df2 button.colab-df-convert');\n",
              "      buttonEl.style.display =\n",
              "        google.colab.kernel.accessAllowed ? 'block' : 'none';\n",
              "\n",
              "      async function convertToInteractive(key) {\n",
              "        const element = document.querySelector('#df-03741d19-88b6-4ea9-92f5-71a748604df2');\n",
              "        const dataTable =\n",
              "          await google.colab.kernel.invokeFunction('convertToInteractive',\n",
              "                                                    [key], {});\n",
              "        if (!dataTable) return;\n",
              "\n",
              "        const docLinkHtml = 'Like what you see? Visit the ' +\n",
              "          '<a target=\"_blank\" href=https://colab.research.google.com/notebooks/data_table.ipynb>data table notebook</a>'\n",
              "          + ' to learn more about interactive tables.';\n",
              "        element.innerHTML = '';\n",
              "        dataTable['output_type'] = 'display_data';\n",
              "        await google.colab.output.renderOutput(dataTable, element);\n",
              "        const docLink = document.createElement('div');\n",
              "        docLink.innerHTML = docLinkHtml;\n",
              "        element.appendChild(docLink);\n",
              "      }\n",
              "    </script>\n",
              "  </div>\n",
              "\n",
              "\n",
              "<div id=\"df-cf114ef1-b42e-47c7-8ad5-e040644a9450\">\n",
              "  <button class=\"colab-df-quickchart\" onclick=\"quickchart('df-cf114ef1-b42e-47c7-8ad5-e040644a9450')\"\n",
              "            title=\"Suggest charts\"\n",
              "            style=\"display:none;\">\n",
              "\n",
              "<svg xmlns=\"http://www.w3.org/2000/svg\" height=\"24px\"viewBox=\"0 0 24 24\"\n",
              "     width=\"24px\">\n",
              "    <g>\n",
              "        <path d=\"M19 3H5c-1.1 0-2 .9-2 2v14c0 1.1.9 2 2 2h14c1.1 0 2-.9 2-2V5c0-1.1-.9-2-2-2zM9 17H7v-7h2v7zm4 0h-2V7h2v10zm4 0h-2v-4h2v4z\"/>\n",
              "    </g>\n",
              "</svg>\n",
              "  </button>\n",
              "\n",
              "<style>\n",
              "  .colab-df-quickchart {\n",
              "      --bg-color: #E8F0FE;\n",
              "      --fill-color: #1967D2;\n",
              "      --hover-bg-color: #E2EBFA;\n",
              "      --hover-fill-color: #174EA6;\n",
              "      --disabled-fill-color: #AAA;\n",
              "      --disabled-bg-color: #DDD;\n",
              "  }\n",
              "\n",
              "  [theme=dark] .colab-df-quickchart {\n",
              "      --bg-color: #3B4455;\n",
              "      --fill-color: #D2E3FC;\n",
              "      --hover-bg-color: #434B5C;\n",
              "      --hover-fill-color: #FFFFFF;\n",
              "      --disabled-bg-color: #3B4455;\n",
              "      --disabled-fill-color: #666;\n",
              "  }\n",
              "\n",
              "  .colab-df-quickchart {\n",
              "    background-color: var(--bg-color);\n",
              "    border: none;\n",
              "    border-radius: 50%;\n",
              "    cursor: pointer;\n",
              "    display: none;\n",
              "    fill: var(--fill-color);\n",
              "    height: 32px;\n",
              "    padding: 0;\n",
              "    width: 32px;\n",
              "  }\n",
              "\n",
              "  .colab-df-quickchart:hover {\n",
              "    background-color: var(--hover-bg-color);\n",
              "    box-shadow: 0 1px 2px rgba(60, 64, 67, 0.3), 0 1px 3px 1px rgba(60, 64, 67, 0.15);\n",
              "    fill: var(--button-hover-fill-color);\n",
              "  }\n",
              "\n",
              "  .colab-df-quickchart-complete:disabled,\n",
              "  .colab-df-quickchart-complete:disabled:hover {\n",
              "    background-color: var(--disabled-bg-color);\n",
              "    fill: var(--disabled-fill-color);\n",
              "    box-shadow: none;\n",
              "  }\n",
              "\n",
              "  .colab-df-spinner {\n",
              "    border: 2px solid var(--fill-color);\n",
              "    border-color: transparent;\n",
              "    border-bottom-color: var(--fill-color);\n",
              "    animation:\n",
              "      spin 1s steps(1) infinite;\n",
              "  }\n",
              "\n",
              "  @keyframes spin {\n",
              "    0% {\n",
              "      border-color: transparent;\n",
              "      border-bottom-color: var(--fill-color);\n",
              "      border-left-color: var(--fill-color);\n",
              "    }\n",
              "    20% {\n",
              "      border-color: transparent;\n",
              "      border-left-color: var(--fill-color);\n",
              "      border-top-color: var(--fill-color);\n",
              "    }\n",
              "    30% {\n",
              "      border-color: transparent;\n",
              "      border-left-color: var(--fill-color);\n",
              "      border-top-color: var(--fill-color);\n",
              "      border-right-color: var(--fill-color);\n",
              "    }\n",
              "    40% {\n",
              "      border-color: transparent;\n",
              "      border-right-color: var(--fill-color);\n",
              "      border-top-color: var(--fill-color);\n",
              "    }\n",
              "    60% {\n",
              "      border-color: transparent;\n",
              "      border-right-color: var(--fill-color);\n",
              "    }\n",
              "    80% {\n",
              "      border-color: transparent;\n",
              "      border-right-color: var(--fill-color);\n",
              "      border-bottom-color: var(--fill-color);\n",
              "    }\n",
              "    90% {\n",
              "      border-color: transparent;\n",
              "      border-bottom-color: var(--fill-color);\n",
              "    }\n",
              "  }\n",
              "</style>\n",
              "\n",
              "  <script>\n",
              "    async function quickchart(key) {\n",
              "      const quickchartButtonEl =\n",
              "        document.querySelector('#' + key + ' button');\n",
              "      quickchartButtonEl.disabled = true;  // To prevent multiple clicks.\n",
              "      quickchartButtonEl.classList.add('colab-df-spinner');\n",
              "      try {\n",
              "        const charts = await google.colab.kernel.invokeFunction(\n",
              "            'suggestCharts', [key], {});\n",
              "      } catch (error) {\n",
              "        console.error('Error during call to suggestCharts:', error);\n",
              "      }\n",
              "      quickchartButtonEl.classList.remove('colab-df-spinner');\n",
              "      quickchartButtonEl.classList.add('colab-df-quickchart-complete');\n",
              "    }\n",
              "    (() => {\n",
              "      let quickchartButtonEl =\n",
              "        document.querySelector('#df-cf114ef1-b42e-47c7-8ad5-e040644a9450 button');\n",
              "      quickchartButtonEl.style.display =\n",
              "        google.colab.kernel.accessAllowed ? 'block' : 'none';\n",
              "    })();\n",
              "  </script>\n",
              "</div>\n",
              "\n",
              "  <div id=\"id_394df5eb-d1a4-4ffe-93eb-4074a69e20b6\">\n",
              "    <style>\n",
              "      .colab-df-generate {\n",
              "        background-color: #E8F0FE;\n",
              "        border: none;\n",
              "        border-radius: 50%;\n",
              "        cursor: pointer;\n",
              "        display: none;\n",
              "        fill: #1967D2;\n",
              "        height: 32px;\n",
              "        padding: 0 0 0 0;\n",
              "        width: 32px;\n",
              "      }\n",
              "\n",
              "      .colab-df-generate:hover {\n",
              "        background-color: #E2EBFA;\n",
              "        box-shadow: 0px 1px 2px rgba(60, 64, 67, 0.3), 0px 1px 3px 1px rgba(60, 64, 67, 0.15);\n",
              "        fill: #174EA6;\n",
              "      }\n",
              "\n",
              "      [theme=dark] .colab-df-generate {\n",
              "        background-color: #3B4455;\n",
              "        fill: #D2E3FC;\n",
              "      }\n",
              "\n",
              "      [theme=dark] .colab-df-generate:hover {\n",
              "        background-color: #434B5C;\n",
              "        box-shadow: 0px 1px 3px 1px rgba(0, 0, 0, 0.15);\n",
              "        filter: drop-shadow(0px 1px 2px rgba(0, 0, 0, 0.3));\n",
              "        fill: #FFFFFF;\n",
              "      }\n",
              "    </style>\n",
              "    <button class=\"colab-df-generate\" onclick=\"generateWithVariable('top10_profit')\"\n",
              "            title=\"Generate code using this dataframe.\"\n",
              "            style=\"display:none;\">\n",
              "\n",
              "  <svg xmlns=\"http://www.w3.org/2000/svg\" height=\"24px\"viewBox=\"0 0 24 24\"\n",
              "       width=\"24px\">\n",
              "    <path d=\"M7,19H8.4L18.45,9,17,7.55,7,17.6ZM5,21V16.75L18.45,3.32a2,2,0,0,1,2.83,0l1.4,1.43a1.91,1.91,0,0,1,.58,1.4,1.91,1.91,0,0,1-.58,1.4L9.25,21ZM18.45,9,17,7.55Zm-12,3A5.31,5.31,0,0,0,4.9,8.1,5.31,5.31,0,0,0,1,6.5,5.31,5.31,0,0,0,4.9,4.9,5.31,5.31,0,0,0,6.5,1,5.31,5.31,0,0,0,8.1,4.9,5.31,5.31,0,0,0,12,6.5,5.46,5.46,0,0,0,6.5,12Z\"/>\n",
              "  </svg>\n",
              "    </button>\n",
              "    <script>\n",
              "      (() => {\n",
              "      const buttonEl =\n",
              "        document.querySelector('#id_394df5eb-d1a4-4ffe-93eb-4074a69e20b6 button.colab-df-generate');\n",
              "      buttonEl.style.display =\n",
              "        google.colab.kernel.accessAllowed ? 'block' : 'none';\n",
              "\n",
              "      buttonEl.onclick = () => {\n",
              "        google.colab.notebook.generateWithVariable('top10_profit');\n",
              "      }\n",
              "      })();\n",
              "    </script>\n",
              "  </div>\n",
              "\n",
              "    </div>\n",
              "  </div>\n"
            ],
            "application/vnd.google.colaboratory.intrinsic+json": {
              "type": "dataframe",
              "variable_name": "top10_profit",
              "summary": "{\n  \"name\": \"top10_profit\",\n  \"rows\": 10,\n  \"fields\": [\n    {\n      \"column\": \"PUZone\",\n      \"properties\": {\n        \"dtype\": \"string\",\n        \"num_unique_values\": 10,\n        \"samples\": [\n          \"Eastchester\",\n          \"Baisley Park\",\n          \"Grymes Hill/Clifton\"\n        ],\n        \"semantic_type\": \"\",\n        \"description\": \"\"\n      }\n    },\n    {\n      \"column\": \"average_profit\",\n      \"properties\": {\n        \"dtype\": \"number\",\n        \"std\": 85.79005646056609,\n        \"min\": 29.53958083762334,\n        \"max\": 311.9330683658483,\n        \"num_unique_values\": 10,\n        \"samples\": [\n          31.208157788023115,\n          100.00592710440851,\n          38.65\n        ],\n        \"semantic_type\": \"\",\n        \"description\": \"\"\n      }\n    }\n  ]\n}"
            }
          },
          "metadata": {}
        },
        {
          "output_type": "display_data",
          "data": {
            "text/plain": [
              "                         PUZone  total_passengers\n",
              "0         Upper East Side South          170548.0\n",
              "1         Upper East Side North          144522.0\n",
              "2  Penn Station/Madison Sq West          137753.0\n",
              "3                Midtown Center          135445.0\n",
              "4                   Murray Hill          124325.0\n",
              "5                  Midtown East          120397.0\n",
              "6           Lincoln Square East          115152.0\n",
              "7                  Clinton East          107693.0\n",
              "8         Upper West Side South          106383.0\n",
              "9                  East Village          106140.0"
            ],
            "text/html": [
              "\n",
              "  <div id=\"df-6798e47e-aab2-4579-bdf5-73f48fd88291\" class=\"colab-df-container\">\n",
              "    <div>\n",
              "<style scoped>\n",
              "    .dataframe tbody tr th:only-of-type {\n",
              "        vertical-align: middle;\n",
              "    }\n",
              "\n",
              "    .dataframe tbody tr th {\n",
              "        vertical-align: top;\n",
              "    }\n",
              "\n",
              "    .dataframe thead th {\n",
              "        text-align: right;\n",
              "    }\n",
              "</style>\n",
              "<table border=\"1\" class=\"dataframe\">\n",
              "  <thead>\n",
              "    <tr style=\"text-align: right;\">\n",
              "      <th></th>\n",
              "      <th>PUZone</th>\n",
              "      <th>total_passengers</th>\n",
              "    </tr>\n",
              "  </thead>\n",
              "  <tbody>\n",
              "    <tr>\n",
              "      <th>0</th>\n",
              "      <td>Upper East Side South</td>\n",
              "      <td>170548.0</td>\n",
              "    </tr>\n",
              "    <tr>\n",
              "      <th>1</th>\n",
              "      <td>Upper East Side North</td>\n",
              "      <td>144522.0</td>\n",
              "    </tr>\n",
              "    <tr>\n",
              "      <th>2</th>\n",
              "      <td>Penn Station/Madison Sq West</td>\n",
              "      <td>137753.0</td>\n",
              "    </tr>\n",
              "    <tr>\n",
              "      <th>3</th>\n",
              "      <td>Midtown Center</td>\n",
              "      <td>135445.0</td>\n",
              "    </tr>\n",
              "    <tr>\n",
              "      <th>4</th>\n",
              "      <td>Murray Hill</td>\n",
              "      <td>124325.0</td>\n",
              "    </tr>\n",
              "    <tr>\n",
              "      <th>5</th>\n",
              "      <td>Midtown East</td>\n",
              "      <td>120397.0</td>\n",
              "    </tr>\n",
              "    <tr>\n",
              "      <th>6</th>\n",
              "      <td>Lincoln Square East</td>\n",
              "      <td>115152.0</td>\n",
              "    </tr>\n",
              "    <tr>\n",
              "      <th>7</th>\n",
              "      <td>Clinton East</td>\n",
              "      <td>107693.0</td>\n",
              "    </tr>\n",
              "    <tr>\n",
              "      <th>8</th>\n",
              "      <td>Upper West Side South</td>\n",
              "      <td>106383.0</td>\n",
              "    </tr>\n",
              "    <tr>\n",
              "      <th>9</th>\n",
              "      <td>East Village</td>\n",
              "      <td>106140.0</td>\n",
              "    </tr>\n",
              "  </tbody>\n",
              "</table>\n",
              "</div>\n",
              "    <div class=\"colab-df-buttons\">\n",
              "\n",
              "  <div class=\"colab-df-container\">\n",
              "    <button class=\"colab-df-convert\" onclick=\"convertToInteractive('df-6798e47e-aab2-4579-bdf5-73f48fd88291')\"\n",
              "            title=\"Convert this dataframe to an interactive table.\"\n",
              "            style=\"display:none;\">\n",
              "\n",
              "  <svg xmlns=\"http://www.w3.org/2000/svg\" height=\"24px\" viewBox=\"0 -960 960 960\">\n",
              "    <path d=\"M120-120v-720h720v720H120Zm60-500h600v-160H180v160Zm220 220h160v-160H400v160Zm0 220h160v-160H400v160ZM180-400h160v-160H180v160Zm440 0h160v-160H620v160ZM180-180h160v-160H180v160Zm440 0h160v-160H620v160Z\"/>\n",
              "  </svg>\n",
              "    </button>\n",
              "\n",
              "  <style>\n",
              "    .colab-df-container {\n",
              "      display:flex;\n",
              "      gap: 12px;\n",
              "    }\n",
              "\n",
              "    .colab-df-convert {\n",
              "      background-color: #E8F0FE;\n",
              "      border: none;\n",
              "      border-radius: 50%;\n",
              "      cursor: pointer;\n",
              "      display: none;\n",
              "      fill: #1967D2;\n",
              "      height: 32px;\n",
              "      padding: 0 0 0 0;\n",
              "      width: 32px;\n",
              "    }\n",
              "\n",
              "    .colab-df-convert:hover {\n",
              "      background-color: #E2EBFA;\n",
              "      box-shadow: 0px 1px 2px rgba(60, 64, 67, 0.3), 0px 1px 3px 1px rgba(60, 64, 67, 0.15);\n",
              "      fill: #174EA6;\n",
              "    }\n",
              "\n",
              "    .colab-df-buttons div {\n",
              "      margin-bottom: 4px;\n",
              "    }\n",
              "\n",
              "    [theme=dark] .colab-df-convert {\n",
              "      background-color: #3B4455;\n",
              "      fill: #D2E3FC;\n",
              "    }\n",
              "\n",
              "    [theme=dark] .colab-df-convert:hover {\n",
              "      background-color: #434B5C;\n",
              "      box-shadow: 0px 1px 3px 1px rgba(0, 0, 0, 0.15);\n",
              "      filter: drop-shadow(0px 1px 2px rgba(0, 0, 0, 0.3));\n",
              "      fill: #FFFFFF;\n",
              "    }\n",
              "  </style>\n",
              "\n",
              "    <script>\n",
              "      const buttonEl =\n",
              "        document.querySelector('#df-6798e47e-aab2-4579-bdf5-73f48fd88291 button.colab-df-convert');\n",
              "      buttonEl.style.display =\n",
              "        google.colab.kernel.accessAllowed ? 'block' : 'none';\n",
              "\n",
              "      async function convertToInteractive(key) {\n",
              "        const element = document.querySelector('#df-6798e47e-aab2-4579-bdf5-73f48fd88291');\n",
              "        const dataTable =\n",
              "          await google.colab.kernel.invokeFunction('convertToInteractive',\n",
              "                                                    [key], {});\n",
              "        if (!dataTable) return;\n",
              "\n",
              "        const docLinkHtml = 'Like what you see? Visit the ' +\n",
              "          '<a target=\"_blank\" href=https://colab.research.google.com/notebooks/data_table.ipynb>data table notebook</a>'\n",
              "          + ' to learn more about interactive tables.';\n",
              "        element.innerHTML = '';\n",
              "        dataTable['output_type'] = 'display_data';\n",
              "        await google.colab.output.renderOutput(dataTable, element);\n",
              "        const docLink = document.createElement('div');\n",
              "        docLink.innerHTML = docLinkHtml;\n",
              "        element.appendChild(docLink);\n",
              "      }\n",
              "    </script>\n",
              "  </div>\n",
              "\n",
              "\n",
              "<div id=\"df-db16e2dd-2a99-49dc-b6c6-7cfe319b1a47\">\n",
              "  <button class=\"colab-df-quickchart\" onclick=\"quickchart('df-db16e2dd-2a99-49dc-b6c6-7cfe319b1a47')\"\n",
              "            title=\"Suggest charts\"\n",
              "            style=\"display:none;\">\n",
              "\n",
              "<svg xmlns=\"http://www.w3.org/2000/svg\" height=\"24px\"viewBox=\"0 0 24 24\"\n",
              "     width=\"24px\">\n",
              "    <g>\n",
              "        <path d=\"M19 3H5c-1.1 0-2 .9-2 2v14c0 1.1.9 2 2 2h14c1.1 0 2-.9 2-2V5c0-1.1-.9-2-2-2zM9 17H7v-7h2v7zm4 0h-2V7h2v10zm4 0h-2v-4h2v4z\"/>\n",
              "    </g>\n",
              "</svg>\n",
              "  </button>\n",
              "\n",
              "<style>\n",
              "  .colab-df-quickchart {\n",
              "      --bg-color: #E8F0FE;\n",
              "      --fill-color: #1967D2;\n",
              "      --hover-bg-color: #E2EBFA;\n",
              "      --hover-fill-color: #174EA6;\n",
              "      --disabled-fill-color: #AAA;\n",
              "      --disabled-bg-color: #DDD;\n",
              "  }\n",
              "\n",
              "  [theme=dark] .colab-df-quickchart {\n",
              "      --bg-color: #3B4455;\n",
              "      --fill-color: #D2E3FC;\n",
              "      --hover-bg-color: #434B5C;\n",
              "      --hover-fill-color: #FFFFFF;\n",
              "      --disabled-bg-color: #3B4455;\n",
              "      --disabled-fill-color: #666;\n",
              "  }\n",
              "\n",
              "  .colab-df-quickchart {\n",
              "    background-color: var(--bg-color);\n",
              "    border: none;\n",
              "    border-radius: 50%;\n",
              "    cursor: pointer;\n",
              "    display: none;\n",
              "    fill: var(--fill-color);\n",
              "    height: 32px;\n",
              "    padding: 0;\n",
              "    width: 32px;\n",
              "  }\n",
              "\n",
              "  .colab-df-quickchart:hover {\n",
              "    background-color: var(--hover-bg-color);\n",
              "    box-shadow: 0 1px 2px rgba(60, 64, 67, 0.3), 0 1px 3px 1px rgba(60, 64, 67, 0.15);\n",
              "    fill: var(--button-hover-fill-color);\n",
              "  }\n",
              "\n",
              "  .colab-df-quickchart-complete:disabled,\n",
              "  .colab-df-quickchart-complete:disabled:hover {\n",
              "    background-color: var(--disabled-bg-color);\n",
              "    fill: var(--disabled-fill-color);\n",
              "    box-shadow: none;\n",
              "  }\n",
              "\n",
              "  .colab-df-spinner {\n",
              "    border: 2px solid var(--fill-color);\n",
              "    border-color: transparent;\n",
              "    border-bottom-color: var(--fill-color);\n",
              "    animation:\n",
              "      spin 1s steps(1) infinite;\n",
              "  }\n",
              "\n",
              "  @keyframes spin {\n",
              "    0% {\n",
              "      border-color: transparent;\n",
              "      border-bottom-color: var(--fill-color);\n",
              "      border-left-color: var(--fill-color);\n",
              "    }\n",
              "    20% {\n",
              "      border-color: transparent;\n",
              "      border-left-color: var(--fill-color);\n",
              "      border-top-color: var(--fill-color);\n",
              "    }\n",
              "    30% {\n",
              "      border-color: transparent;\n",
              "      border-left-color: var(--fill-color);\n",
              "      border-top-color: var(--fill-color);\n",
              "      border-right-color: var(--fill-color);\n",
              "    }\n",
              "    40% {\n",
              "      border-color: transparent;\n",
              "      border-right-color: var(--fill-color);\n",
              "      border-top-color: var(--fill-color);\n",
              "    }\n",
              "    60% {\n",
              "      border-color: transparent;\n",
              "      border-right-color: var(--fill-color);\n",
              "    }\n",
              "    80% {\n",
              "      border-color: transparent;\n",
              "      border-right-color: var(--fill-color);\n",
              "      border-bottom-color: var(--fill-color);\n",
              "    }\n",
              "    90% {\n",
              "      border-color: transparent;\n",
              "      border-bottom-color: var(--fill-color);\n",
              "    }\n",
              "  }\n",
              "</style>\n",
              "\n",
              "  <script>\n",
              "    async function quickchart(key) {\n",
              "      const quickchartButtonEl =\n",
              "        document.querySelector('#' + key + ' button');\n",
              "      quickchartButtonEl.disabled = true;  // To prevent multiple clicks.\n",
              "      quickchartButtonEl.classList.add('colab-df-spinner');\n",
              "      try {\n",
              "        const charts = await google.colab.kernel.invokeFunction(\n",
              "            'suggestCharts', [key], {});\n",
              "      } catch (error) {\n",
              "        console.error('Error during call to suggestCharts:', error);\n",
              "      }\n",
              "      quickchartButtonEl.classList.remove('colab-df-spinner');\n",
              "      quickchartButtonEl.classList.add('colab-df-quickchart-complete');\n",
              "    }\n",
              "    (() => {\n",
              "      let quickchartButtonEl =\n",
              "        document.querySelector('#df-db16e2dd-2a99-49dc-b6c6-7cfe319b1a47 button');\n",
              "      quickchartButtonEl.style.display =\n",
              "        google.colab.kernel.accessAllowed ? 'block' : 'none';\n",
              "    })();\n",
              "  </script>\n",
              "</div>\n",
              "\n",
              "  <div id=\"id_8523cd33-2fcf-4d73-858e-b05083febcde\">\n",
              "    <style>\n",
              "      .colab-df-generate {\n",
              "        background-color: #E8F0FE;\n",
              "        border: none;\n",
              "        border-radius: 50%;\n",
              "        cursor: pointer;\n",
              "        display: none;\n",
              "        fill: #1967D2;\n",
              "        height: 32px;\n",
              "        padding: 0 0 0 0;\n",
              "        width: 32px;\n",
              "      }\n",
              "\n",
              "      .colab-df-generate:hover {\n",
              "        background-color: #E2EBFA;\n",
              "        box-shadow: 0px 1px 2px rgba(60, 64, 67, 0.3), 0px 1px 3px 1px rgba(60, 64, 67, 0.15);\n",
              "        fill: #174EA6;\n",
              "      }\n",
              "\n",
              "      [theme=dark] .colab-df-generate {\n",
              "        background-color: #3B4455;\n",
              "        fill: #D2E3FC;\n",
              "      }\n",
              "\n",
              "      [theme=dark] .colab-df-generate:hover {\n",
              "        background-color: #434B5C;\n",
              "        box-shadow: 0px 1px 3px 1px rgba(0, 0, 0, 0.15);\n",
              "        filter: drop-shadow(0px 1px 2px rgba(0, 0, 0, 0.3));\n",
              "        fill: #FFFFFF;\n",
              "      }\n",
              "    </style>\n",
              "    <button class=\"colab-df-generate\" onclick=\"generateWithVariable('top10_passenger')\"\n",
              "            title=\"Generate code using this dataframe.\"\n",
              "            style=\"display:none;\">\n",
              "\n",
              "  <svg xmlns=\"http://www.w3.org/2000/svg\" height=\"24px\"viewBox=\"0 0 24 24\"\n",
              "       width=\"24px\">\n",
              "    <path d=\"M7,19H8.4L18.45,9,17,7.55,7,17.6ZM5,21V16.75L18.45,3.32a2,2,0,0,1,2.83,0l1.4,1.43a1.91,1.91,0,0,1,.58,1.4,1.91,1.91,0,0,1-.58,1.4L9.25,21ZM18.45,9,17,7.55Zm-12,3A5.31,5.31,0,0,0,4.9,8.1,5.31,5.31,0,0,0,1,6.5,5.31,5.31,0,0,0,4.9,4.9,5.31,5.31,0,0,0,6.5,1,5.31,5.31,0,0,0,8.1,4.9,5.31,5.31,0,0,0,12,6.5,5.46,5.46,0,0,0,6.5,12Z\"/>\n",
              "  </svg>\n",
              "    </button>\n",
              "    <script>\n",
              "      (() => {\n",
              "      const buttonEl =\n",
              "        document.querySelector('#id_8523cd33-2fcf-4d73-858e-b05083febcde button.colab-df-generate');\n",
              "      buttonEl.style.display =\n",
              "        google.colab.kernel.accessAllowed ? 'block' : 'none';\n",
              "\n",
              "      buttonEl.onclick = () => {\n",
              "        google.colab.notebook.generateWithVariable('top10_passenger');\n",
              "      }\n",
              "      })();\n",
              "    </script>\n",
              "  </div>\n",
              "\n",
              "    </div>\n",
              "  </div>\n"
            ],
            "application/vnd.google.colaboratory.intrinsic+json": {
              "type": "dataframe",
              "variable_name": "top10_passenger",
              "summary": "{\n  \"name\": \"top10_passenger\",\n  \"rows\": 10,\n  \"fields\": [\n    {\n      \"column\": \"PUZone\",\n      \"properties\": {\n        \"dtype\": \"string\",\n        \"num_unique_values\": 10,\n        \"samples\": [\n          \"Upper West Side South\",\n          \"Upper East Side North\",\n          \"Midtown East\"\n        ],\n        \"semantic_type\": \"\",\n        \"description\": \"\"\n      }\n    },\n    {\n      \"column\": \"total_passengers\",\n      \"properties\": {\n        \"dtype\": \"number\",\n        \"std\": 20586.44397979732,\n        \"min\": 106140.0,\n        \"max\": 170548.0,\n        \"num_unique_values\": 10,\n        \"samples\": [\n          106383.0,\n          144522.0,\n          120397.0\n        ],\n        \"semantic_type\": \"\",\n        \"description\": \"\"\n      }\n    }\n  ]\n}"
            }
          },
          "metadata": {}
        }
      ]
    },
    {
      "cell_type": "code",
      "source": [],
      "metadata": {
        "id": "2_du9rWKmuI0"
      },
      "execution_count": 22,
      "outputs": []
    },
    {
      "cell_type": "code",
      "source": [
        "# Convert Spark DataFrames to Pandas DataFrames\n",
        "import pandas as pd\n",
        "top10_trips_pd = top10_trips\n",
        "top10_profit_pd = top10_profit\n",
        "top10_passenger_pd = top10_passenger"
      ],
      "metadata": {
        "id": "E1msf0XonykX"
      },
      "execution_count": 23,
      "outputs": []
    },
    {
      "cell_type": "code",
      "source": [
        "import matplotlib.pyplot as plt\n",
        "import seaborn as sns\n",
        "\n",
        "# Setting the style for the plots\n",
        "sns.set(style=\"whitegrid\")\n",
        "\n",
        "# Plotting for top-10 zones by total trip volume\n",
        "plt.figure(figsize=(10, 6))\n",
        "sns.barplot(x=\"total_trips\", y=\"PUZone\", data=top10_trips_pd, palette=\"viridis\")\n",
        "plt.title(\"Top-10 Zones by Total Trip Volume\", fontsize=16)\n",
        "plt.xlabel(\"Total Trips\", fontsize=14)\n",
        "plt.ylabel(\"Zone\", fontsize=14)\n",
        "plt.show()"
      ],
      "metadata": {
        "colab": {
          "base_uri": "https://localhost:8080/",
          "height": 685
        },
        "id": "ZdZeaaGMpndl",
        "outputId": "b75598a6-b524-491d-ecb6-e383f0f76078"
      },
      "execution_count": 24,
      "outputs": [
        {
          "output_type": "stream",
          "name": "stderr",
          "text": [
            "<ipython-input-24-a2d198c266f2>:9: FutureWarning: \n",
            "\n",
            "Passing `palette` without assigning `hue` is deprecated and will be removed in v0.14.0. Assign the `y` variable to `hue` and set `legend=False` for the same effect.\n",
            "\n",
            "  sns.barplot(x=\"total_trips\", y=\"PUZone\", data=top10_trips_pd, palette=\"viridis\")\n"
          ]
        },
        {
          "output_type": "display_data",
          "data": {
            "text/plain": [
              "<Figure size 1000x600 with 1 Axes>"
            ],
            "image/png": "[encoded data removed]"
          },
          "metadata": {}
        }
      ]
    },
    {
      "cell_type": "markdown",
      "source": [
        "**The above figure plots the top-10 zones by total trip volume**. Upper East Side South secures the first place, followed by Upper East Side North as the second and the third top-10 zone by total trip volume is secured by Pen Station/Madison Sq West. So, this is based on the small dataset."
      ],
      "metadata": {
        "id": "MNG71JSJqhNS"
      }
    },
    {
      "cell_type": "code",
      "source": [
        "# Plotting for top-10 zones by average profitability\n",
        "plt.figure(figsize=(10, 6))\n",
        "sns.barplot(x=\"average_profit\", y=\"PUZone\", data=top10_profit_pd, palette=\"magma\")\n",
        "plt.title(\"Top-10 Zones by Average Profitability\", fontsize=16)\n",
        "plt.xlabel(\"Average Profitability ($/mile)\", fontsize=14)\n",
        "plt.ylabel(\"Zone\", fontsize=14)\n",
        "plt.show()"
      ],
      "metadata": {
        "colab": {
          "base_uri": "https://localhost:8080/",
          "height": 685
        },
        "id": "yPJSyFnypr1p",
        "outputId": "3aa67c0b-3527-4c4c-8aa6-aa9c3e3a2609"
      },
      "execution_count": 25,
      "outputs": [
        {
          "output_type": "stream",
          "name": "stderr",
          "text": [
            "<ipython-input-25-8148bc927dbe>:3: FutureWarning: \n",
            "\n",
            "Passing `palette` without assigning `hue` is deprecated and will be removed in v0.14.0. Assign the `y` variable to `hue` and set `legend=False` for the same effect.\n",
            "\n",
            "  sns.barplot(x=\"average_profit\", y=\"PUZone\", data=top10_profit_pd, palette=\"magma\")\n"
          ]
        },
        {
          "output_type": "display_data",
          "data": {
            "text/plain": [
              "<Figure size 1000x600 with 1 Axes>"
            ],
            "image/png": "[encoded data removed]"
          },
          "metadata": {}
        }
      ]
    },
    {
      "cell_type": "markdown",
      "source": [
        "**The above plot represents the top-10 zones by average profitability.** Bay Terrace/Fort Totten has been a great zone for producing the toppest profitablity among other zones and then Baisley Park second and closely followed by Prospect park in the third place."
      ],
      "metadata": {
        "id": "0fS57vBWquQt"
      }
    },
    {
      "cell_type": "code",
      "source": [
        "# Plotting for top-10 zones by total passenger volume\n",
        "plt.figure(figsize=(10, 6))\n",
        "sns.barplot(x=\"total_passengers\", y=\"PUZone\", data=top10_passenger_pd, palette=\"plasma\")\n",
        "plt.title(\"Top-10 Zones by Total Passenger Volume\", fontsize=16)\n",
        "plt.xlabel(\"Total Passengers\", fontsize=14)\n",
        "plt.ylabel(\"Zone\", fontsize=14)\n",
        "plt.show()"
      ],
      "metadata": {
        "colab": {
          "base_uri": "https://localhost:8080/",
          "height": 685
        },
        "id": "O3qKug07pxVH",
        "outputId": "c1074baf-1bd4-4c44-dbb6-aff0387b18d8"
      },
      "execution_count": 26,
      "outputs": [
        {
          "output_type": "stream",
          "name": "stderr",
          "text": [
            "<ipython-input-26-382b1a37d662>:3: FutureWarning: \n",
            "\n",
            "Passing `palette` without assigning `hue` is deprecated and will be removed in v0.14.0. Assign the `y` variable to `hue` and set `legend=False` for the same effect.\n",
            "\n",
            "  sns.barplot(x=\"total_passengers\", y=\"PUZone\", data=top10_passenger_pd, palette=\"plasma\")\n"
          ]
        },
        {
          "output_type": "display_data",
          "data": {
            "text/plain": [
              "<Figure size 1000x600 with 1 Axes>"
            ],
            "image/png": "[encoded data removed]"
          },
          "metadata": {}
        }
      ]
    },
    {
      "cell_type": "markdown",
      "source": [
        "**The above graph plots the top-10 zones by total passenger volume.**"
      ],
      "metadata": {
        "id": "4pj9GgDfq7rc"
      }
    },
    {
      "cell_type": "markdown",
      "source": [
        "And the final stage, it is time to record the pipeline execution. Again like the total trips volume, now with regards to total passenger volume, Upper East Side South secures the first place, followed by Upper East Side North as the second and the third top-10 zone by total trip volume is secured by Pen Station/Madison Sq West. So, this is based on the small dataset."
      ],
      "metadata": {
        "id": "ZwPd2KhurFd5"
      }
    },
    {
      "cell_type": "markdown",
      "source": [
        "Now, before jumping to Pipeline Implementation, the analysis pipeline is discussed here and the following tasks are considered:\n",
        "\n",
        "**Data Cleaning:**\n",
        "\n",
        "Removed invalid trips (e.g., zero distance or zero passengers) Tasks 0, 1, 1.1\n",
        "\n",
        "Identified and removed outliers using the modified z-score method to ensure data quality in task 1.2\n",
        "\n",
        "**Data Enrichment:**\n",
        "\n",
        "Joined trip data with zone names to enable spatial analysis in task 2.1.\n",
        "\n",
        "Calculated unit profitability (fare per mile) for each trip in task 2.2.\n",
        "\n",
        "**Zone Summarization:**\n",
        "\n",
        "Aggregated trip data by zone to calculate:\n",
        "\n",
        "Total trip volume.\n",
        "\n",
        "Average profitability.\n",
        "\n",
        "Total passenger volume.\n",
        "\n",
        "Ranked zones to identify the top 10 for each metric all done in tasks 3.1, 3.2.\n",
        "\n",
        "**Performance Evaluation:**\n",
        "\n",
        "Measuring execution times for different dataset sizes (S, M, L). This is done after the pipeline implementation in Task 4.\n"
      ],
      "metadata": {
        "id": "4sl7avlCMhTh"
      }
    },
    {
      "cell_type": "markdown",
      "source": [
        "# **Task 4 - Recording the Pipeline execution**\n"
      ],
      "metadata": {
        "id": "S8WcOB4KArN5"
      }
    },
    {
      "cell_type": "markdown",
      "source": [
        "As of now, only the overall performance of the S dataset have been calculated."
      ],
      "metadata": {
        "id": "Btb51nbRrLtP"
      }
    },
    {
      "cell_type": "code",
      "source": [
        "import time\n",
        "\n",
        "# Defining the dataset sizes\n",
        "sizes = ['S','M', 'L']\n",
        "execution_times = []\n",
        "\n",
        "# Running the pipeline for each dataset size\n",
        "for size in sizes:\n",
        "    print(f\"Running pipeline for size: {size}\")\n",
        "\n",
        "    # Loading trips dataset\n",
        "    trips = init_trips(size)\n",
        "\n",
        "    # Record the number of rows (in millions)\n",
        "    row_count = trips.count() / 1_000_000  # Convert to millions\n",
        "\n",
        "    # Running pipeline without Task 1.2\n",
        "    start_time = time.time()\n",
        "    pipeline(trips, with_task_12=False)\n",
        "    execution_time_without_12 = time.time() - start_time\n",
        "\n",
        "    # Running pipeline with Task 1.2\n",
        "    start_time = time.time()\n",
        "    pipeline(trips, with_task_12=True)\n",
        "    execution_time_with_12 = time.time() - start_time\n",
        "\n",
        "    # Calculating seconds per 1 million records\n",
        "    sec_per_1m_without_12 = execution_time_without_12 / row_count\n",
        "    sec_per_1m_with_12 = execution_time_with_12 / row_count\n",
        "\n",
        "    # Recording the execution times and metrics\n",
        "    execution_times.append({\n",
        "        'size': size,\n",
        "        'rows (M)': row_count,\n",
        "        'execution_time (w/o 1.2)': execution_time_without_12,\n",
        "        'execution_time': execution_time_with_12,\n",
        "        'sec / 1M records (w/o 1.2)': sec_per_1m_without_12,\n",
        "        'sec / 1M records': sec_per_1m_with_12\n",
        "    })\n",
        "\n",
        "# Printing the results in a tabular format\n",
        "print(\"Table 1. Pipeline performance for parquet format.\")\n",
        "print(\"---------------------------------------------------------------------------------\")\n",
        "print(\"| Metric/Dataset Size         | S         | M         | L         | XL   | XXL  |\")\n",
        "print(\"|-----------------------------|-----------|-----------|-----------|------|------|\")\n",
        "print(\"---------------------------------------------------------------------------------\")\n",
        "# Extracting and format the data for each metric\n",
        "metrics = [\n",
        "    \"rows (M)\",\n",
        "    \"execution_time (w/o 1.2)\",\n",
        "    \"execution_time\",\n",
        "    \"sec / 1M records (w/o 1.2)\",\n",
        "    \"sec / 1M records\"\n",
        "]\n",
        "\n",
        "for metric in metrics:\n",
        "    row = f\"| {metric.ljust(28)}\"\n",
        "    for size in sizes:\n",
        "        value = next(record[metric] for record in execution_times if record['size'] == size)\n",
        "        row += f\"| {value:.2f} \"\n",
        "    row += \"|\"\n",
        "    print(row)"
      ],
      "metadata": {
        "colab": {
          "base_uri": "https://localhost:8080/",
          "height": 0
        },
        "id": "1SkWUYv7Avdq",
        "outputId": "481b34d1-2eba-4948-d199-b267f0aabd95"
      },
      "execution_count": 27,
      "outputs": [
        {
          "output_type": "stream",
          "name": "stdout",
          "text": [
            "Running pipeline for size: S\n",
            "\n",
            "    Trips dataset loaded!\n",
            "    ---\n",
            "      Size: S\n",
            "      Tables loaded: ['/content/drive/MyDrive/AdvancedAI_Data/tripdata_2021_07.parquet']\n",
            "      Number of trips (dataset rows): 2,898,033\n",
            "    \n",
            "Running pipeline for size: M\n",
            "\n",
            "    Trips dataset loaded!\n",
            "    ---\n",
            "      Size: M\n",
            "      Tables loaded: ['/content/drive/MyDrive/AdvancedAI_Data/tripdata_2021.parquet']\n",
            "      Number of trips (dataset rows): 15,571,166\n",
            "    \n",
            "Running pipeline for size: L\n",
            "\n",
            "    Trips dataset loaded!\n",
            "    ---\n",
            "      Size: L\n",
            "      Tables loaded: ['/content/drive/MyDrive/AdvancedAI_Data/tripdata_2020_21.parquet']\n",
            "      Number of trips (dataset rows): 41,953,716\n",
            "    \n",
            "Table 1. Pipeline performance for parquet format.\n",
            "---------------------------------------------------------------------------------\n",
            "| Metric/Dataset Size         | S         | M         | L         | XL   | XXL  |\n",
            "|-----------------------------|-----------|-----------|-----------|------|------|\n",
            "---------------------------------------------------------------------------------\n",
            "| rows (M)                    | 2.90 | 15.57 | 41.95 |\n",
            "| execution_time (w/o 1.2)    | 13.47 | 48.14 | 187.88 |\n",
            "| execution_time              | 17.98 | 74.90 | 178.35 |\n",
            "| sec / 1M records (w/o 1.2)  | 4.65 | 3.09 | 4.48 |\n",
            "| sec / 1M records            | 6.20 | 4.81 | 4.25 |\n"
          ]
        }
      ]
    },
    {
      "cell_type": "markdown",
      "source": [
        "# Important take aways:\n",
        "\n",
        "After completing the assignment and analyzing the results, here are the important takeaways:\n",
        "\n",
        "*Note: XL and XXL datasets were not executed but are included for future scalability analysis.*\n",
        "\n",
        "**1. Dataset Size vs. Execution Time**\n",
        "\n",
        "---\n",
        "\n",
        "\n",
        "**Scalability:**\n",
        "\n",
        "Small (S): 2.9M rows → 17.98s (with outlier removal).\n",
        "\n",
        "Medium (M): 15.57M rows → 74.90s (3.3× slower than S).\n",
        "\n",
        "Large (L): 41.95M rows → 178.35s (10× slower than S).\n",
        "\n",
        "**Efficiency:**\n",
        "\n",
        "Seconds per 1M records decreased for larger datasets (e.g., L: 4.25s/1M vs. S: 6.20s/1M), indicating better optimization for scale.\n",
        "\n",
        "**2. Impact of Outlier Removal (Task 1.2)\n",
        "Overhead:**\n",
        "\n",
        "---\n",
        "\n",
        "\n",
        "\n",
        "Added ~33% to execution time for S (13.47s → 17.98s).\n",
        "\n",
        "Larger datasets saw less relative overhead (e.g., L: 187.88s → 178.35s, a 5% reduction).\n",
        "\n",
        "**Trade-off:**\n",
        "\n",
        "Outlier removal improves data quality but requires balancing runtime for larger datasets (e.g., L took 178s vs. 187s without it).\n",
        "\n",
        "**3. Data Quality Insights**\n",
        "\n",
        "---\n",
        "\n",
        "\n",
        "**Invalid Trips Removed (Task 1.1):**\n",
        "\n",
        "Filtered trips with zero distance/passengers, ensuring analysis reflects valid trips only.\n",
        "\n",
        "**Outliers Removed (Task 1.2):**\n",
        "\n",
        "Eliminated extreme values in trip_distance and total_amount, reducing skew in profitability/passenger metrics.\n",
        "\n",
        "**4. Zone Performance Highlights**\n",
        "\n",
        "---\n",
        "\n",
        "\n",
        "**Top-10 Zones by Trip Volume:**\n",
        "\n",
        "Busiest zones (e.g., Manhattan) dominated due to high population density.\n",
        "\n",
        "**Top-10 by Profitability:**\n",
        "\n",
        "Short, high-fare trips (e.g., airport zones) yielded the highest profitability.\n",
        "\n",
        "**Top-10 by Passenger Volume:**\n",
        "\n",
        "Tourist hubs and transit centers (e.g., Times Square) had the highest demand.\n",
        "\n",
        "**5. Scalability Challenges & Memory/Time Constraints:**\n",
        "\n",
        "---\n",
        "\n",
        "Execution time grew exponentially (S: 17.98s → L: 178.35s).\n",
        "\n",
        "For XL/XXL datasets, consider distributed Spark clusters or cloud-based processing.\n",
        "\n",
        "\n",
        "**6. Future Work:**\n",
        "\n",
        "---\n",
        "\n",
        "\n",
        "\n",
        "Integrate weather/event data for richer insights.\n",
        "\n",
        "Optimize outlier detection using approximate algorithms (e.g., t-digest).\n",
        "\n",
        "Deploy on Spark clusters for XL/XXL datasets."
      ],
      "metadata": {
        "id": "5owCL_RarfOX"
      }
    }
  ],
  "metadata": {
    "application/vnd.databricks.v1+notebook": {
      "dashboards": [],
      "language": "python",
      "notebookMetadata": {
        "pythonIndentUnit": 4
      },
      "notebookName": "CSC8101-spark-coursework",
      "notebookOrigID": 3034227906566903,
      "widgets": {}
    },
    "language_info": {
      "name": "python"
    },
    "colab": {
      "provenance": [],
      "gpuType": "T4",
      "toc_visible": true,
      "include_colab_link": true
    },
    "kernelspec": {
      "name": "python3",
      "display_name": "Python 3"
    },
    "accelerator": "GPU"
  },
  "nbformat": 4,
  "nbformat_minor": 0
}